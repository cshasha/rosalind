{
 "cells": [
  {
   "cell_type": "markdown",
   "metadata": {},
   "source": [
    "# Transcribing DNA into RNA\n",
    "### Problem\n",
    "An RNA string is a string formed from the alphabet containing 'A', 'C', 'G', and 'U'.\n",
    "\n",
    "Given a DNA string t corresponding to a coding strand, its transcribed RNA string u is formed by replacing all occurrences of 'T' in t with 'U' in u.\n",
    "\n",
    "### Given: \n",
    "A DNA string t having length at most 1000 nt.\n",
    "\n",
    "### Return: \n",
    "The transcribed RNA string of t."
   ]
  },
  {
   "cell_type": "code",
   "execution_count": 1,
   "metadata": {
    "collapsed": true
   },
   "outputs": [],
   "source": [
    "import numpy as np\n",
    "import pandas as pd\n",
    "import matplotlib.pyplot as pl\n",
    "\n",
    "pl.style.use('seaborn')\n",
    "pl.rc('font',family='Arial')"
   ]
  },
  {
   "cell_type": "code",
   "execution_count": 17,
   "metadata": {
    "collapsed": true
   },
   "outputs": [],
   "source": [
    "t = \"CCTACGTATCCCCTAGTCGACTACTTAGTGGTTACCGGCTGCGCTGAATGAATACTTTGATTAACCTAGATAGGCTGTATTAGACACTTGTGACGTCGATTCCGCAATCGACCAACGCCCGTCCCGAGTACAGGCACTGTCCTCAAATGAAGCCACGCGAGACGTGCGGGGTCCGTGACTAGGGAAGTTTTCTGCTCCGAGATACCTCTATCCTCCATTTAGCCGGGCCAGATTGCCTTGTCGCCACATTTCAGTTCAAGCCGCCCTGCGCCATAATTCCTGTGAGCCGTTCCCGTTGATGCAATCTAGGCAGATCGATTTGGACCAGGCTGAAAAACTCACAATCGCCAATCTTGACCCACGGGTCATGTCTTAGTTATACTATGTTCGCCGTCTCATTGAACGTGCGTTTTCTAAGCCTGTGCTCAATAACCTCCCTTGGTAGAACCAAGACGGTTTACATATGTTGTTTGGGGGTTTTCATATAACACAGACGACTAACCAGGGCATACAAGGGCGATTTTCACTTAAGCCACGCTCTCTAAGCCGCTCGCCCCCGTACACGGTTAATATGGTCCAAGAAGATGAAGGCTCTGCTGGTGCTCCGCTCTAGTTTGGTGCATAATGTACAACGCATTAAACATCCGAAAATCCTGGTAGCTACTAATACTGCAAAAGGGTCAGAGGATCCAATGGACGGATTCAAGATAAAAGGGTATCTCTCTGGTTATAACAGGGCCCGCCGACAATGGCGGTTACCCACTCGCCTATTGGGCCCGGGCTACGGTTCGAGAAGACGTTTCATGAAAATGCTGGCGCAATCCAAGAAAGAGTATGGCCTTCTTCTAATAAGACGTCAGTATGCAATTTGATCCCGACTTGGGGATTTAGTTGACAAGCTGCCGGGGTGTTCGCAGCAGGTTCAGATGTCCACGTTTAGTAATCCTGAAGACGCTTAAGGAGCACGCAA\"\n",
    "s = []"
   ]
  },
  {
   "cell_type": "code",
   "execution_count": 18,
   "metadata": {
    "collapsed": false
   },
   "outputs": [],
   "source": [
    "for i in t:\n",
    "    s.append(\"U\") if i == \"T\" else s.append(i)"
   ]
  },
  {
   "cell_type": "code",
   "execution_count": 19,
   "metadata": {
    "collapsed": false
   },
   "outputs": [
    {
     "data": {
      "text/plain": [
       "'CCUACGUAUCCCCUAGUCGACUACUUAGUGGUUACCGGCUGCGCUGAAUGAAUACUUUGAUUAACCUAGAUAGGCUGUAUUAGACACUUGUGACGUCGAUUCCGCAAUCGACCAACGCCCGUCCCGAGUACAGGCACUGUCCUCAAAUGAAGCCACGCGAGACGUGCGGGGUCCGUGACUAGGGAAGUUUUCUGCUCCGAGAUACCUCUAUCCUCCAUUUAGCCGGGCCAGAUUGCCUUGUCGCCACAUUUCAGUUCAAGCCGCCCUGCGCCAUAAUUCCUGUGAGCCGUUCCCGUUGAUGCAAUCUAGGCAGAUCGAUUUGGACCAGGCUGAAAAACUCACAAUCGCCAAUCUUGACCCACGGGUCAUGUCUUAGUUAUACUAUGUUCGCCGUCUCAUUGAACGUGCGUUUUCUAAGCCUGUGCUCAAUAACCUCCCUUGGUAGAACCAAGACGGUUUACAUAUGUUGUUUGGGGGUUUUCAUAUAACACAGACGACUAACCAGGGCAUACAAGGGCGAUUUUCACUUAAGCCACGCUCUCUAAGCCGCUCGCCCCCGUACACGGUUAAUAUGGUCCAAGAAGAUGAAGGCUCUGCUGGUGCUCCGCUCUAGUUUGGUGCAUAAUGUACAACGCAUUAAACAUCCGAAAAUCCUGGUAGCUACUAAUACUGCAAAAGGGUCAGAGGAUCCAAUGGACGGAUUCAAGAUAAAAGGGUAUCUCUCUGGUUAUAACAGGGCCCGCCGACAAUGGCGGUUACCCACUCGCCUAUUGGGCCCGGGCUACGGUUCGAGAAGACGUUUCAUGAAAAUGCUGGCGCAAUCCAAGAAAGAGUAUGGCCUUCUUCUAAUAAGACGUCAGUAUGCAAUUUGAUCCCGACUUGGGGAUUUAGUUGACAAGCUGCCGGGGUGUUCGCAGCAGGUUCAGAUGUCCACGUUUAGUAAUCCUGAAGACGCUUAAGGAGCACGCAA'"
      ]
     },
     "execution_count": 19,
     "metadata": {},
     "output_type": "execute_result"
    }
   ],
   "source": [
    "''.join(s)"
   ]
  },
  {
   "cell_type": "code",
   "execution_count": null,
   "metadata": {
    "collapsed": true
   },
   "outputs": [],
   "source": []
  }
 ],
 "metadata": {
  "anaconda-cloud": {},
  "kernelspec": {
   "display_name": "Python [conda env:miniconda3]",
   "language": "python",
   "name": "conda-env-miniconda3-py"
  },
  "language_info": {
   "codemirror_mode": {
    "name": "ipython",
    "version": 3
   },
   "file_extension": ".py",
   "mimetype": "text/x-python",
   "name": "python",
   "nbconvert_exporter": "python",
   "pygments_lexer": "ipython3",
   "version": "3.5.2"
  }
 },
 "nbformat": 4,
 "nbformat_minor": 1
}
