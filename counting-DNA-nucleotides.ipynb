{
 "cells": [
  {
   "cell_type": "markdown",
   "metadata": {},
   "source": [
    "# Counting DNA Nucleotides\n",
    "### Problem\n",
    "A string is simply an ordered collection of symbols selected from some alphabet and formed into a word; the length of a string is the number of symbols that it contains.\n",
    "\n",
    "An example of a length 21 DNA string (whose alphabet contains the symbols 'A', 'C', 'G', and 'T') is \"ATGCTTCAGAAAGGTCTTACG.\"\n",
    "\n",
    "### Given: \n",
    "A DNA string s of length at most 1000 nt.\n",
    "\n",
    "### Return: \n",
    "Four integers (separated by spaces) counting the respective number of times that the symbols 'A', 'C', 'G', and 'T' occur in s.\n",
    "\n"
   ]
  },
  {
   "cell_type": "code",
   "execution_count": 1,
   "metadata": {
    "collapsed": true
   },
   "outputs": [],
   "source": [
    "import numpy as np\n",
    "import pandas as pd\n",
    "import matplotlib.pyplot as pl\n",
    "\n",
    "pl.style.use('seaborn')\n",
    "pl.rc('font',family='Arial')"
   ]
  },
  {
   "cell_type": "code",
   "execution_count": 21,
   "metadata": {
    "collapsed": true
   },
   "outputs": [],
   "source": [
    "s = \"GCTGGGTCTGTAGAGGCATGTGTAGATCGCATCGGAACCACAGCCGGTGCGCCACTTGAACTCAGGGGTAGGGCTAGTCAGATAGACTGAGCTGCTGAGGTAAAGAAATCAGGGGTTACGGTCTATATCTGAAGTACTGGTCCAATCTTCAGGTTGTGAAGCTACGCAGACTGTTCTTGTTTCGATAGTCAATAGACGTAGGTGCTACGCCAGCGATCACCCAGCCGAAGGTGCGTGAACAGGACCACCCTTCCCGGTCCGTTAATTGAGGAAACCTTCTTAACGGAAAAATAGAGCTAGACTAAGACTTCTGCTTCCCTTAGGGGATCTTCCTACTCAACCGGCCTTTACTTCAACACATAGTCAATTAGCGATAGTCTGTTCGACGGCACCCATCTGCCCACACGTTCTACGTGTATAAGCACTGATATGAACGGCTTATTAGGTATTTTCGTAGCATCTCTGCAGACTCCTAGAGTCCAAATGAGGAGGCCTCGTGCTTACTCCATTGTTCTAGGAGGACCGACGCACGACTGCCAGCCTGTAGTACGACTCGACCTACTTGCGCGTACAACTTGCGCGAAGAGAGTTCGATAATCCGGGATTAGATTACGAGAGATTTAGTAGGACGAGCAGGGCATCTACTCTGCCGATCATGTGGCTGAAGCACAACAATTCTGCCCTCATATAGTTTTACTCGGTATCTCGTGATGACGCTTATTAAAATACCGAGCATTGTGCGCGCTTCCGGGAGCAGTCTAAAAAGGGCCGCTGTGAGGATTGTAGTCGTTATACACATACAACCTCTCGC\""
   ]
  },
  {
   "cell_type": "code",
   "execution_count": 22,
   "metadata": {
    "collapsed": false
   },
   "outputs": [],
   "source": [
    "A_count = 0\n",
    "C_count = 0\n",
    "G_count = 0\n",
    "T_count = 0\n",
    "\n",
    "for i in s:\n",
    "    if i == \"A\": A_count += 1\n",
    "    elif i == \"C\": C_count += 1\n",
    "    elif i == \"G\": G_count += 1\n",
    "    elif i == \"T\": T_count += 1"
   ]
  },
  {
   "cell_type": "code",
   "execution_count": 23,
   "metadata": {
    "collapsed": false
   },
   "outputs": [
    {
     "name": "stdout",
     "output_type": "stream",
     "text": [
      "205 198 203 205\n"
     ]
    }
   ],
   "source": [
    "print(str(A_count) + \" \" + str(C_count) + \" \" + str(G_count) + \" \" + str(T_count))"
   ]
  },
  {
   "cell_type": "code",
   "execution_count": null,
   "metadata": {
    "collapsed": true
   },
   "outputs": [],
   "source": []
  }
 ],
 "metadata": {
  "anaconda-cloud": {},
  "kernelspec": {
   "display_name": "Python [conda env:miniconda3]",
   "language": "python",
   "name": "conda-env-miniconda3-py"
  },
  "language_info": {
   "codemirror_mode": {
    "name": "ipython",
    "version": 3
   },
   "file_extension": ".py",
   "mimetype": "text/x-python",
   "name": "python",
   "nbconvert_exporter": "python",
   "pygments_lexer": "ipython3",
   "version": "3.5.2"
  }
 },
 "nbformat": 4,
 "nbformat_minor": 1
}
