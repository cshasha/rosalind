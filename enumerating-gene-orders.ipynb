{
 "cells": [
  {
   "cell_type": "markdown",
   "metadata": {},
   "source": [
    "# Enumerating Gene Orders\n",
    "### Problem\n",
    "A permutation of length n is an ordering of the positive integers {1,2,…,n}. For example, $\\pi$ =(5,3,2,1,4) is a permutation of length 5.\n",
    "\n",
    "### Given: \n",
    "A positive integer n≤7.\n",
    "\n",
    "### Return: \n",
    "The total number of permutations of length n, followed by a list of all such permutations (in any order)."
   ]
  },
  {
   "cell_type": "code",
   "execution_count": 10,
   "metadata": {
    "collapsed": true
   },
   "outputs": [],
   "source": [
    "import numpy as np\n",
    "import itertools "
   ]
  },
  {
   "cell_type": "code",
   "execution_count": 106,
   "metadata": {
    "collapsed": true
   },
   "outputs": [],
   "source": [
    "n = 5\n",
    "order = np.arange(1, n+1, 1)\n",
    "count = 0"
   ]
  },
  {
   "cell_type": "code",
   "execution_count": 107,
   "metadata": {
    "collapsed": false
   },
   "outputs": [],
   "source": [
    "perm = list(itertools.permutations(order))"
   ]
  },
  {
   "cell_type": "code",
   "execution_count": 108,
   "metadata": {
    "collapsed": false
   },
   "outputs": [
    {
     "name": "stdout",
     "output_type": "stream",
     "text": [
      "120\n",
      "1 2 3 4 5\n",
      "1 2 3 5 4\n",
      "1 2 4 3 5\n",
      "1 2 4 5 3\n",
      "1 2 5 3 4\n",
      "1 2 5 4 3\n",
      "1 3 2 4 5\n",
      "1 3 2 5 4\n",
      "1 3 4 2 5\n",
      "1 3 4 5 2\n",
      "1 3 5 2 4\n",
      "1 3 5 4 2\n",
      "1 4 2 3 5\n",
      "1 4 2 5 3\n",
      "1 4 3 2 5\n",
      "1 4 3 5 2\n",
      "1 4 5 2 3\n",
      "1 4 5 3 2\n",
      "1 5 2 3 4\n",
      "1 5 2 4 3\n",
      "1 5 3 2 4\n",
      "1 5 3 4 2\n",
      "1 5 4 2 3\n",
      "1 5 4 3 2\n",
      "2 1 3 4 5\n",
      "2 1 3 5 4\n",
      "2 1 4 3 5\n",
      "2 1 4 5 3\n",
      "2 1 5 3 4\n",
      "2 1 5 4 3\n",
      "2 3 1 4 5\n",
      "2 3 1 5 4\n",
      "2 3 4 1 5\n",
      "2 3 4 5 1\n",
      "2 3 5 1 4\n",
      "2 3 5 4 1\n",
      "2 4 1 3 5\n",
      "2 4 1 5 3\n",
      "2 4 3 1 5\n",
      "2 4 3 5 1\n",
      "2 4 5 1 3\n",
      "2 4 5 3 1\n",
      "2 5 1 3 4\n",
      "2 5 1 4 3\n",
      "2 5 3 1 4\n",
      "2 5 3 4 1\n",
      "2 5 4 1 3\n",
      "2 5 4 3 1\n",
      "3 1 2 4 5\n",
      "3 1 2 5 4\n",
      "3 1 4 2 5\n",
      "3 1 4 5 2\n",
      "3 1 5 2 4\n",
      "3 1 5 4 2\n",
      "3 2 1 4 5\n",
      "3 2 1 5 4\n",
      "3 2 4 1 5\n",
      "3 2 4 5 1\n",
      "3 2 5 1 4\n",
      "3 2 5 4 1\n",
      "3 4 1 2 5\n",
      "3 4 1 5 2\n",
      "3 4 2 1 5\n",
      "3 4 2 5 1\n",
      "3 4 5 1 2\n",
      "3 4 5 2 1\n",
      "3 5 1 2 4\n",
      "3 5 1 4 2\n",
      "3 5 2 1 4\n",
      "3 5 2 4 1\n",
      "3 5 4 1 2\n",
      "3 5 4 2 1\n",
      "4 1 2 3 5\n",
      "4 1 2 5 3\n",
      "4 1 3 2 5\n",
      "4 1 3 5 2\n",
      "4 1 5 2 3\n",
      "4 1 5 3 2\n",
      "4 2 1 3 5\n",
      "4 2 1 5 3\n",
      "4 2 3 1 5\n",
      "4 2 3 5 1\n",
      "4 2 5 1 3\n",
      "4 2 5 3 1\n",
      "4 3 1 2 5\n",
      "4 3 1 5 2\n",
      "4 3 2 1 5\n",
      "4 3 2 5 1\n",
      "4 3 5 1 2\n",
      "4 3 5 2 1\n",
      "4 5 1 2 3\n",
      "4 5 1 3 2\n",
      "4 5 2 1 3\n",
      "4 5 2 3 1\n",
      "4 5 3 1 2\n",
      "4 5 3 2 1\n",
      "5 1 2 3 4\n",
      "5 1 2 4 3\n",
      "5 1 3 2 4\n",
      "5 1 3 4 2\n",
      "5 1 4 2 3\n",
      "5 1 4 3 2\n",
      "5 2 1 3 4\n",
      "5 2 1 4 3\n",
      "5 2 3 1 4\n",
      "5 2 3 4 1\n",
      "5 2 4 1 3\n",
      "5 2 4 3 1\n",
      "5 3 1 2 4\n",
      "5 3 1 4 2\n",
      "5 3 2 1 4\n",
      "5 3 2 4 1\n",
      "5 3 4 1 2\n",
      "5 3 4 2 1\n",
      "5 4 1 2 3\n",
      "5 4 1 3 2\n",
      "5 4 2 1 3\n",
      "5 4 2 3 1\n",
      "5 4 3 1 2\n",
      "5 4 3 2 1\n"
     ]
    }
   ],
   "source": [
    "print(len(perm))\n",
    "\n",
    "for i in perm:\n",
    "    count += 1\n",
    "    for x in range(n): \n",
    "        if x < n - 1: print(str(i[x]), end =\" \")\n",
    "        else: print(str(i[x]))\n",
    "    "
   ]
  },
  {
   "cell_type": "code",
   "execution_count": null,
   "metadata": {
    "collapsed": true
   },
   "outputs": [],
   "source": []
  }
 ],
 "metadata": {
  "anaconda-cloud": {},
  "kernelspec": {
   "display_name": "Python [conda env:miniconda3]",
   "language": "python",
   "name": "conda-env-miniconda3-py"
  },
  "language_info": {
   "codemirror_mode": {
    "name": "ipython",
    "version": 3
   },
   "file_extension": ".py",
   "mimetype": "text/x-python",
   "name": "python",
   "nbconvert_exporter": "python",
   "pygments_lexer": "ipython3",
   "version": "3.5.2"
  }
 },
 "nbformat": 4,
 "nbformat_minor": 1
}
