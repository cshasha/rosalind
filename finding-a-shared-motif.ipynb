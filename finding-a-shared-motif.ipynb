{
 "cells": [
  {
   "cell_type": "markdown",
   "metadata": {},
   "source": [
    "# Finding a Shared Motif\n",
    "### Problem\n",
    "A common substring of a collection of strings is a substring of every member of the collection. We say that a common substring is a longest common substring if there does not exist a longer common substring. For example, \"CG\" is a common substring of \"ACGTACGT\" and \"AACCGTATA\", but it is not as long as possible; in this case, \"CGTA\" is a longest common substring of \"ACGTACGT\" and \"AACCGTATA\".\n",
    "\n",
    "Note that the longest common substring is not necessarily unique; for a simple example, \"AA\" and \"CC\" are both longest common substrings of \"AACC\" and \"CCAA\".\n",
    "\n",
    "### Given: \n",
    "A collection of k (k≤100) DNA strings of length at most 1 kbp each in FASTA format.\n",
    "\n",
    "### Return: \n",
    "A longest common substring of the collection. (If multiple solutions exist, you may return any single solution.)\n",
    "\n"
   ]
  },
  {
   "cell_type": "code",
   "execution_count": 1,
   "metadata": {
    "collapsed": true
   },
   "outputs": [],
   "source": [
    "import numpy as np\n",
    "\n",
    "def read_FASTA(file):\n",
    "    data = np.genfromtxt(file,dtype=str)\n",
    "    names = []\n",
    "    strings = []\n",
    "    y = []\n",
    "    for x in range(len(data)):\n",
    "        if data[x][0]  == \">\": y.append(x)\n",
    "\n",
    "    for x in range(len(y)):\n",
    "        if x == len(y)-1: \n",
    "            strings.append(\"\".join(data[y[x]+1:]))\n",
    "            names.append(data[y[x]][1:])\n",
    "        else: \n",
    "            strings.append(\"\".join(data[y[x]+1:y[x+1]]))\n",
    "            names.append(data[y[x]][1:])\n",
    "            \n",
    "    return names, strings"
   ]
  },
  {
   "cell_type": "code",
   "execution_count": 48,
   "metadata": {
    "collapsed": true
   },
   "outputs": [],
   "source": [
    "names, strings = read_FASTA(\"rosalind_lcsm.txt\")\n",
    "#strings = [\"GATTACA\",\"TAGACCA\", \"ATACA\",\"TATATA\"]\n",
    "lengths = [len(i) for i in strings]\n",
    "shortest = min(lengths)\n",
    "total = len(strings)"
   ]
  },
  {
   "cell_type": "code",
   "execution_count": 64,
   "metadata": {
    "collapsed": false
   },
   "outputs": [],
   "source": [
    "substrings = []\n",
    "end = False\n",
    "for k in range(shortest+1,2,-1):\n",
    "    if end == True: break\n",
    "    for x in range(len(strings[0])-k +1):\n",
    "        if len([i for i in strings if strings[0][x:x+k] in i]) == total: \n",
    "            substrings.append(strings[0][x:x+k])\n",
    "            end = True\n",
    "            break\n",
    "        "
   ]
  },
  {
   "cell_type": "code",
   "execution_count": 62,
   "metadata": {
    "collapsed": false
   },
   "outputs": [
    {
     "name": "stdout",
     "output_type": "stream",
     "text": [
      "GATCTATCTCAGGGGCGGCATTGTGCTACCGAATTGAAATTTTTACAGTTCTTACCGATGAAACTGGATGGTTGGATAGAACTCTCCACGAAGCAACCCTGCGCTACCGGCCTTTTCAGCCATCATTATCTAATTCTCATAGCGCCGCCAGACTATCTAGGACTTCCTTAGTTATCGTCTCTCTCTAGGCTGGAACCCACCGAACTACCTAGCCCCCGGTTGGTTATCGCTAAAA\n"
     ]
    }
   ],
   "source": [
    "print([i for i in substrings if len(i) == max([len(j) for j in substrings])][0])"
   ]
  },
  {
   "cell_type": "code",
   "execution_count": 63,
   "metadata": {
    "collapsed": false
   },
   "outputs": [
    {
     "name": "stdout",
     "output_type": "stream",
     "text": [
      "['GATCTATCTCAGGGGCGGCATTGTGCTACCGAATTGAAATTTTTACAGTTCTTACCGATGAAACTGGATGGTTGGATAGAACTCTCCACGAAGCAACCCTGCGCTACCGGCCTTTTCAGCCATCATTATCTAATTCTCATAGCGCCGCCAGACTATCTAGGACTTCCTTAGTTATCGTCTCTCTCTAGGCTGGAACCCACCGAACTACCTAGCCCCCGGTTGGTTATCGCTAAAA']\n"
     ]
    }
   ],
   "source": [
    "print(substrings)"
   ]
  },
  {
   "cell_type": "code",
   "execution_count": null,
   "metadata": {
    "collapsed": true
   },
   "outputs": [],
   "source": []
  }
 ],
 "metadata": {
  "anaconda-cloud": {},
  "kernelspec": {
   "display_name": "Python [conda env:miniconda3]",
   "language": "python",
   "name": "conda-env-miniconda3-py"
  },
  "language_info": {
   "codemirror_mode": {
    "name": "ipython",
    "version": 3
   },
   "file_extension": ".py",
   "mimetype": "text/x-python",
   "name": "python",
   "nbconvert_exporter": "python",
   "pygments_lexer": "ipython3",
   "version": "3.5.2"
  }
 },
 "nbformat": 4,
 "nbformat_minor": 1
}
