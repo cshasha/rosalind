{
 "cells": [
  {
   "cell_type": "markdown",
   "metadata": {},
   "source": [
    "# Enumerating k-mers Lexicographically\n",
    "### Problem\n",
    "Assume that an alphabet 𝒜 has a predetermined order; that is, we write the alphabet as a permutation 𝒜=($a_1,a_2,…,a_k$), where $a_1<a_2<⋯<a_k$. For instance, the English alphabet is organized as ($A,B,…,Z$).\n",
    "\n",
    "Given two strings $s$ and $t$ having the same length $n$, we say that $s$ precedes $t$ in the lexicographic order (and write $s<_{Lex} t$) if the first symbol $s[j]$ that doesn't match $t[j]$ satisfies $s_j<t_j$ in 𝒜.\n",
    "\n",
    "### Given: \n",
    "A collection of at most 10 symbols defining an ordered alphabet, and a positive integer n (n≤10).\n",
    "\n",
    "### Return: \n",
    "All strings of length n that can be formed from the alphabet, ordered lexicographically (use the standard order of symbols in the English alphabet)."
   ]
  },
  {
   "cell_type": "code",
   "execution_count": 219,
   "metadata": {
    "collapsed": true
   },
   "outputs": [],
   "source": [
    "s = \"ACGT\"\n",
    "n = 3\n",
    "num = len(s)**n"
   ]
  },
  {
   "cell_type": "code",
   "execution_count": 220,
   "metadata": {
    "collapsed": false
   },
   "outputs": [],
   "source": [
    "strings = []\n",
    "strings.append(''.join([i*int(num/len(s)) for i in s]))\n",
    "if n > 2: strings.append(''.join([i*int(num/(len(s)**2)) for i in s] * len(s)))\n",
    "if n > 3: strings.append(''.join([i*int(num/(len(s)**3)) for i in s] * len(s)**2))\n",
    "if n > 4: strings.append(''.join([i*int(num/(len(s)**4)) for i in s] * len(s)**3))\n",
    "if n > 5: strings.append(''.join([i*int(num/(len(s)**4)) for i in s] * len(s)**4))\n",
    "if n > 6: strings.append(''.join([i*int(num/(len(s)**4)) for i in s] * len(s)**5))\n",
    "if n > 7: strings.append(''.join([i*int(num/(len(s)**4)) for i in s] * len(s)**6))\n",
    "if n > 8: strings.append(''.join([i*int(num/(len(s)**4)) for i in s] * len(s)**7))\n",
    "if n > 9: strings.append(''.join([i*int(num/(len(s)**4)) for i in s] * len(s)**8))\n",
    "strings.append(''.join(s * int(num/len(s))))"
   ]
  },
  {
   "cell_type": "code",
   "execution_count": 221,
   "metadata": {
    "collapsed": false
   },
   "outputs": [
    {
     "name": "stdout",
     "output_type": "stream",
     "text": [
      "AAA\n",
      "AAC\n",
      "AAG\n",
      "AAT\n",
      "ACA\n",
      "ACC\n",
      "ACG\n",
      "ACT\n",
      "AGA\n",
      "AGC\n",
      "AGG\n",
      "AGT\n",
      "ATA\n",
      "ATC\n",
      "ATG\n",
      "ATT\n",
      "CAA\n",
      "CAC\n",
      "CAG\n",
      "CAT\n",
      "CCA\n",
      "CCC\n",
      "CCG\n",
      "CCT\n",
      "CGA\n",
      "CGC\n",
      "CGG\n",
      "CGT\n",
      "CTA\n",
      "CTC\n",
      "CTG\n",
      "CTT\n",
      "GAA\n",
      "GAC\n",
      "GAG\n",
      "GAT\n",
      "GCA\n",
      "GCC\n",
      "GCG\n",
      "GCT\n",
      "GGA\n",
      "GGC\n",
      "GGG\n",
      "GGT\n",
      "GTA\n",
      "GTC\n",
      "GTG\n",
      "GTT\n",
      "TAA\n",
      "TAC\n",
      "TAG\n",
      "TAT\n",
      "TCA\n",
      "TCC\n",
      "TCG\n",
      "TCT\n",
      "TGA\n",
      "TGC\n",
      "TGG\n",
      "TGT\n",
      "TTA\n",
      "TTC\n",
      "TTG\n",
      "TTT\n"
     ]
    }
   ],
   "source": [
    "perms = [''.join(x) for x in zip(*strings)]\n",
    "for x in perms: print(x)"
   ]
  },
  {
   "cell_type": "code",
   "execution_count": null,
   "metadata": {
    "collapsed": true
   },
   "outputs": [],
   "source": []
  }
 ],
 "metadata": {
  "anaconda-cloud": {},
  "kernelspec": {
   "display_name": "Python [conda env:miniconda3]",
   "language": "python",
   "name": "conda-env-miniconda3-py"
  },
  "language_info": {
   "codemirror_mode": {
    "name": "ipython",
    "version": 3
   },
   "file_extension": ".py",
   "mimetype": "text/x-python",
   "name": "python",
   "nbconvert_exporter": "python",
   "pygments_lexer": "ipython3",
   "version": "3.5.2"
  }
 },
 "nbformat": 4,
 "nbformat_minor": 1
}
