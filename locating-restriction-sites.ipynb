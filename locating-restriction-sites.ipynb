{
 "cells": [
  {
   "cell_type": "markdown",
   "metadata": {},
   "source": [
    "# Locating Restriction Sites\n",
    "### Problem\n",
    "A DNA string is a reverse palindrome if it is equal to its reverse complement. For instance, GCATGC is a reverse palindrome because its reverse complement is GCATGC. See Figure 2.\n",
    "\n",
    "### Given:\n",
    "A DNA string of length at most 1 kbp in FASTA format.\n",
    "\n",
    "### Return: \n",
    "The position and length of every reverse palindrome in the string having length between 4 and 12. You may return these pairs in any order."
   ]
  },
  {
   "cell_type": "code",
   "execution_count": 1,
   "metadata": {
    "collapsed": true
   },
   "outputs": [],
   "source": [
    "import numpy as np\n",
    "\n",
    "def read_FASTA(file):\n",
    "    data = np.genfromtxt(file,dtype=str)\n",
    "    names = []\n",
    "    strings = []\n",
    "    y = []\n",
    "    for x in range(len(data)):\n",
    "        if data[x][0]  == \">\": y.append(x)\n",
    "\n",
    "    for x in range(len(y)):\n",
    "        if x == len(y)-1: \n",
    "            strings.append(\"\".join(data[y[x]+1:]))\n",
    "            names.append(data[y[x]][1:])\n",
    "        else: \n",
    "            strings.append(\"\".join(data[y[x]+1:y[x+1]]))\n",
    "            names.append(data[y[x]][1:])\n",
    "            \n",
    "    return strings"
   ]
  },
  {
   "cell_type": "code",
   "execution_count": 18,
   "metadata": {
    "collapsed": true
   },
   "outputs": [],
   "source": [
    "def reverse_c(string):\n",
    "    s_rev = string[::-1]\n",
    "    sc = []\n",
    "    for i in s_rev:\n",
    "        if i == \"A\": sc.append(\"T\")\n",
    "        elif i == \"T\": sc.append(\"A\")\n",
    "        elif i == \"G\": sc.append(\"C\")\n",
    "        elif i == \"C\": sc.append(\"G\")\n",
    "    sc = ''.join(sc)\n",
    "    return sc\n",
    "    "
   ]
  },
  {
   "cell_type": "code",
   "execution_count": 21,
   "metadata": {
    "collapsed": true
   },
   "outputs": [],
   "source": [
    "s = read_FASTA(\"rosalind_revp.txt\")[0]\n",
    "#s = \"TCAATGCATGCGGGTCTATATGCAT\""
   ]
  },
  {
   "cell_type": "code",
   "execution_count": 22,
   "metadata": {
    "collapsed": false
   },
   "outputs": [
    {
     "name": "stdout",
     "output_type": "stream",
     "text": [
      "1 4\n",
      "2 4\n",
      "5 4\n",
      "9 4\n",
      "20 4\n",
      "37 4\n",
      "41 4\n",
      "44 4\n",
      "91 4\n",
      "99 4\n",
      "101 4\n",
      "109 4\n",
      "130 4\n",
      "139 4\n",
      "205 4\n",
      "227 4\n",
      "231 4\n",
      "248 4\n",
      "253 4\n",
      "272 4\n",
      "278 4\n",
      "306 4\n",
      "315 4\n",
      "325 4\n",
      "369 4\n",
      "378 4\n",
      "383 4\n",
      "390 4\n",
      "407 4\n",
      "423 4\n",
      "459 4\n",
      "487 4\n",
      "504 4\n",
      "522 4\n",
      "532 4\n",
      "534 4\n",
      "539 4\n",
      "542 4\n",
      "548 4\n",
      "586 4\n",
      "590 4\n",
      "594 4\n",
      "606 4\n",
      "612 4\n",
      "631 4\n",
      "635 4\n",
      "667 4\n",
      "682 4\n",
      "691 4\n",
      "714 4\n",
      "726 4\n",
      "731 4\n",
      "780 4\n",
      "793 4\n",
      "829 4\n",
      "845 4\n",
      "19 6\n",
      "90 6\n",
      "98 6\n",
      "108 6\n",
      "138 6\n",
      "277 6\n",
      "389 6\n",
      "422 6\n",
      "593 6\n",
      "634 6\n",
      "666 6\n",
      "681 6\n",
      "713 6\n",
      "107 8\n",
      "276 8\n",
      "388 8\n",
      "421 8\n",
      "633 8\n",
      "106 10\n",
      "420 10\n",
      "632 10\n",
      "419 12\n"
     ]
    }
   ],
   "source": [
    "for n in range(4,13):\n",
    "    for i in range(len(s) - n + 1):\n",
    "        sc = reverse_c(s[i:i+n])\n",
    "        if s[i:i+n] == sc:\n",
    "            print(i+1, end = \" \")\n",
    "            print(n)"
   ]
  },
  {
   "cell_type": "code",
   "execution_count": null,
   "metadata": {
    "collapsed": true
   },
   "outputs": [],
   "source": []
  },
  {
   "cell_type": "code",
   "execution_count": null,
   "metadata": {
    "collapsed": true
   },
   "outputs": [],
   "source": []
  }
 ],
 "metadata": {
  "anaconda-cloud": {},
  "kernelspec": {
   "display_name": "Python [conda env:miniconda3]",
   "language": "python",
   "name": "conda-env-miniconda3-py"
  },
  "language_info": {
   "codemirror_mode": {
    "name": "ipython",
    "version": 3
   },
   "file_extension": ".py",
   "mimetype": "text/x-python",
   "name": "python",
   "nbconvert_exporter": "python",
   "pygments_lexer": "ipython3",
   "version": "3.5.2"
  }
 },
 "nbformat": 4,
 "nbformat_minor": 1
}
