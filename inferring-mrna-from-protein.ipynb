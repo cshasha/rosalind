{
 "cells": [
  {
   "cell_type": "markdown",
   "metadata": {},
   "source": [
    "# Inferring mRNA from Protein\n",
    "### Given: \n",
    "A protein string of length at most 1000 aa.\n",
    "\n",
    "### Return:\n",
    "The total number of different RNA strings from which the protein could have been translated, modulo 1,000,000. (Don't neglect the importance of the stop codon in protein translation.)"
   ]
  },
  {
   "cell_type": "code",
   "execution_count": 18,
   "metadata": {
    "collapsed": true
   },
   "outputs": [],
   "source": [
    "from collections import Counter"
   ]
  },
  {
   "cell_type": "code",
   "execution_count": 1,
   "metadata": {
    "collapsed": true
   },
   "outputs": [],
   "source": [
    "codon_table = {\n",
    "    'UUU': 'F',     'CUU': 'L',     'AUU': 'I',     'GUU': 'V',\n",
    "    'UUC': 'F',     'CUC': 'L',     'AUC': 'I',     'GUC': 'V',\n",
    "    'UUA': 'L',     'CUA': 'L',     'AUA': 'I',     'GUA': 'V',\n",
    "    'UUG': 'L',     'CUG': 'L',     'AUG': 'M',     'GUG': 'V',\n",
    "    'UCU': 'S',     'CCU': 'P',     'ACU': 'T',     'GCU': 'A',\n",
    "    'UCC': 'S',     'CCC': 'P',     'ACC': 'T',     'GCC': 'A',\n",
    "    'UCA': 'S',     'CCA': 'P',     'ACA': 'T',     'GCA': 'A',\n",
    "    'UCG': 'S',     'CCG': 'P',     'ACG': 'T',     'GCG': 'A',\n",
    "    'UAU': 'Y',     'CAU': 'H',     'AAU': 'N',     'GAU': 'D',\n",
    "    'UAC': 'Y',     'CAC': 'H',     'AAC': 'N',     'GAC': 'D',\n",
    "    'UAA': 'Stop',  'CAA': 'Q',     'AAA': 'K',     'GAA': 'E',\n",
    "    'UAG': 'Stop',  'CAG': 'Q',     'AAG': 'K',     'GAG': 'E',\n",
    "    'UGU': 'C',     'CGU': 'R',     'AGU': 'S',     'GGU': 'G',\n",
    "    'UGC': 'C',     'CGC': 'R',     'AGC': 'S',     'GGC': 'G',\n",
    "    'UGA': 'Stop',  'CGA': 'R',     'AGA': 'R',     'GGA': 'G',\n",
    "    'UGG': 'W',     'CGG': 'R',     'AGG': 'R',     'GGG': 'G'\n",
    "}       "
   ]
  },
  {
   "cell_type": "code",
   "execution_count": 29,
   "metadata": {
    "collapsed": true
   },
   "outputs": [],
   "source": [
    "protein = \"MQCMCELRSRFSADQTVLDDICFDLQTCGMAVEIRETKFIEWLNYPHGWQDYIILPRFNDQEVYKSQKIDVGCFGIRYQKHGGAGGPWEWQGYESGVCQDEPDFGTFVWYCYDCDNWWYWLEHLDLLHQHSMCSYDCMPKFPHSGLTWKKSTKPTSIQSTSTWPLGQAQKYHYDRMYHYITNEPCCLFFTKQPDVTSWICMVGNGCQCDKDCDTHMRWDEDDWPGPKVCQQTAAAYPTTTINGPNMFFIPMYFQWHQIPLVIWDEPYLCRYLVRNRSCVSWKIHDRSDWISVKARATDKPFEMVYIEPTWIFTFIYTNGIKRPTGCRRNAELTSNTNHGVDQKCIVSDIHDPDAVAIGAGKGGMSTYMEILTCLLKMVQMQHRGFTDWIIRCFTFKRWTWEKEMRALAMSEVSEVNETNTRIYALFSVFGQFCFNYHSAKLWMAPLAEILPAIFQRMAEKNHEQIMWTVYDEIKPMLSVCLEPIESYLKDDDHRPHYDGRRYIEGERWFETTGGSIMTSNAWKYKMSKATRENPPICDYSMTRWDSRWMHMEDPGCIVPLMELKPSVKTYTTMMISDSMWCPNHACEFMNPGDRMQVDMHCKSGARHRITGEAKFRIFFFTNIYRQRRHENNPLLAMHSCKIMRNYFPHKAHSQMEMQGETIKTETDMIHAPGEIFQTQTNDEDYSCVNNIQYRMKPVVSQKNQWNKVSGRPSNKMFDDNWHLCKRNEMMMNGVFDCTYSTYQGPGRWGHKENSTDGMSHFLWQLVKCVKQMRWRFWKLFSNSQADLNLIFRMGPKVVQCLLVHLMCVKQHCDPIGTHFNNFQKYLIEKEEMGLNWQEHSLVQSLCDVNAYDFPILWREMMVELTRGTLRGGQMHVQLALRNVFCKPTGIDLMEHCWHGYMEMESSDHIHYMTMKHWIKVRTHFAWDYHTDITFKHHFIYHHDRHFKMRLKPQHPDLEIHDIQCHLVNRYQQGHGHINYHVKGYQDFRVFEFNTSKIYC\"\n",
    "strings = 1"
   ]
  },
  {
   "cell_type": "code",
   "execution_count": 30,
   "metadata": {
    "collapsed": false
   },
   "outputs": [
    {
     "name": "stdout",
     "output_type": "stream",
     "text": [
      "185088\n"
     ]
    }
   ],
   "source": [
    "counts = Counter(val for val in codon_table.values())\n",
    "\n",
    "for i in protein:\n",
    "    strings *= counts[i] % 1000000\n",
    "\n",
    "strings *= counts['Stop'] % 1000000\n",
    "\n",
    "print(strings % 1000000)"
   ]
  },
  {
   "cell_type": "code",
   "execution_count": null,
   "metadata": {
    "collapsed": true
   },
   "outputs": [],
   "source": []
  }
 ],
 "metadata": {
  "anaconda-cloud": {},
  "kernelspec": {
   "display_name": "Python [conda env:miniconda3]",
   "language": "python",
   "name": "conda-env-miniconda3-py"
  },
  "language_info": {
   "codemirror_mode": {
    "name": "ipython",
    "version": 3
   },
   "file_extension": ".py",
   "mimetype": "text/x-python",
   "name": "python",
   "nbconvert_exporter": "python",
   "pygments_lexer": "ipython3",
   "version": "3.5.2"
  }
 },
 "nbformat": 4,
 "nbformat_minor": 1
}
