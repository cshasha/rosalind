{
 "cells": [
  {
   "cell_type": "markdown",
   "metadata": {},
   "source": [
    "# Open Reading Frames\n",
    "### Problem\n",
    "Either strand of a DNA double helix can serve as the coding strand for RNA transcription. Hence, a given DNA string implies six total reading frames, or ways in which the same region of DNA can be translated into amino acids: three reading frames result from reading the string itself, whereas three more result from reading its reverse complement.\n",
    "\n",
    "An open reading frame (ORF) is one which starts from the start codon and ends by stop codon, without any other stop codons in between. Thus, a candidate protein string is derived by translating an open reading frame into amino acids until a stop codon is reached.\n",
    "\n",
    "### Given: \n",
    "A DNA string s of length at most 1 kbp in FASTA format.\n",
    "\n",
    "### Return: \n",
    "Every distinct candidate protein string that can be translated from ORFs of s. Strings can be returned in any order.\n",
    "\n"
   ]
  },
  {
   "cell_type": "code",
   "execution_count": 225,
   "metadata": {
    "collapsed": true
   },
   "outputs": [],
   "source": [
    "import numpy as np\n",
    "\n",
    "def read_FASTA(file):\n",
    "    data = np.genfromtxt(file,dtype=str)\n",
    "    names = []\n",
    "    strings = []\n",
    "    y = []\n",
    "    for x in range(len(data)):\n",
    "        if data[x][0]  == \">\": y.append(x)\n",
    "\n",
    "    for x in range(len(y)):\n",
    "        if x == len(y)-1: \n",
    "            strings.append(\"\".join(data[y[x]+1:]))\n",
    "            names.append(data[y[x]][1:])\n",
    "        else: \n",
    "            strings.append(\"\".join(data[y[x]+1:y[x+1]]))\n",
    "            names.append(data[y[x]][1:])\n",
    "            \n",
    "    return strings"
   ]
  },
  {
   "cell_type": "code",
   "execution_count": 338,
   "metadata": {
    "collapsed": false
   },
   "outputs": [],
   "source": [
    "s = read_FASTA(\"rosalind_orf.txt\")[0]\n",
    "#s = \"AGCCATGTAGCTAACTCAGGTTACATGGGGATGACCCCGCGACTTGGATTAGAGTCTCTTTTGGAATAAGCCTGAATGATCCGAGTAGCATCTCAG\"\n",
    "r = []\n",
    "for i in s: r.append(\"U\") if i == \"T\" else r.append(i)\n",
    "r = ''.join(r)\n",
    "\n",
    "r_rev = r[::-1]\n",
    "rc = []\n",
    "for i in r_rev:\n",
    "    if i == \"A\": rc.append(\"U\")\n",
    "    elif i == \"U\": rc.append(\"A\")\n",
    "    elif i == \"G\": rc.append(\"C\")\n",
    "    elif i == \"C\": rc.append(\"G\")\n",
    "rc = ''.join(rc)"
   ]
  },
  {
   "cell_type": "code",
   "execution_count": 339,
   "metadata": {
    "collapsed": false
   },
   "outputs": [],
   "source": [
    "codon_table = {\n",
    "    'UUU': 'F',     'CUU': 'L',     'AUU': 'I',     'GUU': 'V',\n",
    "    'UUC': 'F',     'CUC': 'L',     'AUC': 'I',     'GUC': 'V',\n",
    "    'UUA': 'L',     'CUA': 'L',     'AUA': 'I',     'GUA': 'V',\n",
    "    'UUG': 'L',     'CUG': 'L',     'AUG': 'M',     'GUG': 'V',\n",
    "    'UCU': 'S',     'CCU': 'P',     'ACU': 'T',     'GCU': 'A',\n",
    "    'UCC': 'S',     'CCC': 'P',     'ACC': 'T',     'GCC': 'A',\n",
    "    'UCA': 'S',     'CCA': 'P',     'ACA': 'T',     'GCA': 'A',\n",
    "    'UCG': 'S',     'CCG': 'P',     'ACG': 'T',     'GCG': 'A',\n",
    "    'UAU': 'Y',     'CAU': 'H',     'AAU': 'N',     'GAU': 'D',\n",
    "    'UAC': 'Y',     'CAC': 'H',     'AAC': 'N',     'GAC': 'D',\n",
    "    'UAA': 'Stop',  'CAA': 'Q',     'AAA': 'K',     'GAA': 'E',\n",
    "    'UAG': 'Stop',  'CAG': 'Q',     'AAG': 'K',     'GAG': 'E',\n",
    "    'UGU': 'C',     'CGU': 'R',     'AGU': 'S',     'GGU': 'G',\n",
    "    'UGC': 'C',     'CGC': 'R',     'AGC': 'S',     'GGC': 'G',\n",
    "    'UGA': 'Stop',  'CGA': 'R',     'AGA': 'R',     'GGA': 'G',\n",
    "    'UGG': 'W',     'CGG': 'R',     'AGG': 'R',     'GGG': 'G'\n",
    "}    "
   ]
  },
  {
   "cell_type": "code",
   "execution_count": 340,
   "metadata": {
    "collapsed": false
   },
   "outputs": [],
   "source": [
    "protein = \"\"\n",
    "record = \"off\"\n",
    "for i in range(0, len(r)-(len(r) % 3), 3):\n",
    "    if (r[i:i+3] == 'AUG') and (record == \"off\"):\n",
    "        record = \"on\"\n",
    "        protein += \" Start\"\n",
    "    if record == \"on\": protein += codon_table[r[i:i+3]]\n",
    "    if codon_table[r[i:i+3]] == \"Stop\":\n",
    "        record = \"off\"\n",
    "        protein += \" \"\n",
    "\n",
    "record = \"off\"\n",
    "for i in range(1, len(r)-((len(r)+2) % 3), 3):\n",
    "    if (r[i:i+3] == 'AUG') and (record == \"off\"):\n",
    "        record = \"on\"\n",
    "        protein += \" Start\"\n",
    "    if record == \"on\": protein += codon_table[r[i:i+3]]\n",
    "    if codon_table[r[i:i+3]] == \"Stop\":\n",
    "        record = \"off\"\n",
    "        protein += \" \"\n",
    "\n",
    "record = \"off\"\n",
    "for i in range(2, len(r)-((len(r)+1) % 3), 3):\n",
    "    if (r[i:i+3] == 'AUG') and (record == \"off\"):\n",
    "        record = \"on\"\n",
    "        protein += \" Start\"\n",
    "    if record == \"on\": protein += codon_table[r[i:i+3]]\n",
    "    if codon_table[r[i:i+3]] == \"Stop\":\n",
    "        record = \"off\"\n",
    "        protein += \" \"\n",
    "        "
   ]
  },
  {
   "cell_type": "code",
   "execution_count": 341,
   "metadata": {
    "collapsed": false
   },
   "outputs": [],
   "source": [
    "record = \"off\"\n",
    "for i in range(0, len(rc)-(len(rc) % 3), 3):\n",
    "    if (rc[i:i+3] == 'AUG') and (record == \"off\"):\n",
    "        record = \"on\"\n",
    "        protein += \" Start\"\n",
    "    if record == \"on\": protein += codon_table[rc[i:i+3]]\n",
    "    if codon_table[rc[i:i+3]] == \"Stop\":\n",
    "        record = \"off\"\n",
    "        protein += \" \"\n",
    "\n",
    "record = \"off\"\n",
    "for i in range(1, len(rc)-((len(rc)+2) % 3), 3):\n",
    "    if (rc[i:i+3] == 'AUG') and (record == \"off\"):\n",
    "        record = \"on\"\n",
    "        protein += \" Start\"\n",
    "    if record == \"on\": protein += codon_table[rc[i:i+3]]\n",
    "    if codon_table[rc[i:i+3]] == \"Stop\":\n",
    "        record = \"off\"\n",
    "        protein += \" \"\n",
    "\n",
    "record = \"off\"\n",
    "for i in range(2, len(rc)-((len(rc)+1) % 3), 3):\n",
    "    if (rc[i:i+3] == 'AUG') and (record == \"off\"):\n",
    "        record = \"on\"\n",
    "        protein += \" Start\"\n",
    "    if record == \"on\": protein += codon_table[rc[i:i+3]]\n",
    "    if codon_table[rc[i:i+3]] == \"Stop\":\n",
    "        record = \"off\"\n",
    "        protein += \" \""
   ]
  },
  {
   "cell_type": "code",
   "execution_count": 342,
   "metadata": {
    "collapsed": false
   },
   "outputs": [],
   "source": [
    "protein = protein.split(' ')"
   ]
  },
  {
   "cell_type": "code",
   "execution_count": 343,
   "metadata": {
    "collapsed": false
   },
   "outputs": [],
   "source": [
    "final = []\n",
    "for x in protein:\n",
    "    if (x[:5] == \"Start\") and (x[-4:] == \"Stop\"): final.append(x[5:-4])\n",
    "        \n",
    "for y in final:\n",
    "    for i in range(1,len(y)):\n",
    "        if y[i] == \"M\": final.append(y[i:])"
   ]
  },
  {
   "cell_type": "code",
   "execution_count": 344,
   "metadata": {
    "collapsed": false
   },
   "outputs": [
    {
     "name": "stdout",
     "output_type": "stream",
     "text": [
      "MTAIGNPMVLTT\n",
      "MRNVTVE\n",
      "MANTVTNMRCL\n",
      "MHEMPNSDSCQGGEHPVWKISPGKRGSAAISRTLSNFILVASWTWCGVSTRVKKL\n",
      "MQRFLQDSLAIWLHAECDS\n",
      "MRRPE\n",
      "MVLTT\n",
      "MHQPQRWY\n",
      "MLVTVFAMLREFLRVNAITGMVSLRGA\n",
      "MQPNSLRQPHRGHSRRLHE\n",
      "M\n",
      "MQFGKLGTASWDL\n",
      "MSVSLSDVVVPGTHFERGLESKFETASEGMWLVPSAVP\n",
      "MRCL\n",
      "MHFNAIWQAWNSFVGFIGNVMKDPIRRVRSGERTRRSKFFDPRRDTAPRP\n",
      "MKPNR\n",
      "MDVVRCLDEGQKTLIAWYARHF\n",
      "MPNSDSCQGGEHPVWKISPGKRGSAAISRTLSNFILVASWTWCGVSTRVKKL\n",
      "MSSSLERISSAAWKVSLRRLARECGWCPRQCHSGKRLD\n",
      "MWLVPSAVP\n",
      "MLREFLRVNAITGMVSLRGA\n",
      "MPLSKRPYP\n",
      "MKDPIRRVRSGERTRRSKFFDPRRDTAPRP\n",
      "MALPRAPTTFPR\n",
      "MFAALARIGIRHLMHQPQRWY\n",
      "MGHEATCPSLISSIQIKSRGLSASRIIAL\n",
      "MMQPNSLRQPHRGHSRRLHE\n",
      "MSYDLVKGIDPMMQPNSLRQPHRGHSRRLHE\n",
      "MLSSINYSTVTFRMKPNR\n",
      "MRSRDDDIREGN\n",
      "MHCQRR\n",
      "MKLLSVLLIAADPLLPGEIFQTGCSPPWHESELGISCINLKDGTNYLIAIR\n",
      "MVSLRGA\n",
      "MRCLIPIRARAANILFGRFHQAKGGQRLSVGH\n"
     ]
    }
   ],
   "source": [
    "for x in set(final): print(x)"
   ]
  },
  {
   "cell_type": "code",
   "execution_count": null,
   "metadata": {
    "collapsed": true
   },
   "outputs": [],
   "source": []
  }
 ],
 "metadata": {
  "anaconda-cloud": {},
  "kernelspec": {
   "display_name": "Python [conda env:miniconda3]",
   "language": "python",
   "name": "conda-env-miniconda3-py"
  },
  "language_info": {
   "codemirror_mode": {
    "name": "ipython",
    "version": 3
   },
   "file_extension": ".py",
   "mimetype": "text/x-python",
   "name": "python",
   "nbconvert_exporter": "python",
   "pygments_lexer": "ipython3",
   "version": "3.5.2"
  }
 },
 "nbformat": 4,
 "nbformat_minor": 1
}
