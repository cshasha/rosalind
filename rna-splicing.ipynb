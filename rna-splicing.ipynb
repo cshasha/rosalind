{
 "cells": [
  {
   "cell_type": "markdown",
   "metadata": {},
   "source": [
    "# RNA Splicing\n",
    "### Problem\n",
    "After identifying the exons and introns of an RNA string, we only need to delete the introns and concatenate the exons to form a new string ready for translation.\n",
    "\n",
    "### Given: \n",
    "A DNA string s (of length at most 1 kbp) and a collection of substrings of s acting as introns. All strings are given in FASTA format.\n",
    "\n",
    "### Return: \n",
    "A protein string resulting from transcribing and translating the exons of s. (Note: Only one solution will exist for the dataset provided.)\n",
    "\n"
   ]
  },
  {
   "cell_type": "code",
   "execution_count": 1,
   "metadata": {
    "collapsed": true
   },
   "outputs": [],
   "source": [
    "import numpy as np\n",
    "\n",
    "def read_FASTA(file):\n",
    "    data = np.genfromtxt(file,dtype=str)\n",
    "    names = []\n",
    "    strings = []\n",
    "    y = []\n",
    "    for x in range(len(data)):\n",
    "        if data[x][0]  == \">\": y.append(x)\n",
    "\n",
    "    for x in range(len(y)):\n",
    "        if x == len(y)-1: \n",
    "            strings.append(\"\".join(data[y[x]+1:]))\n",
    "            names.append(data[y[x]][1:])\n",
    "        else: \n",
    "            strings.append(\"\".join(data[y[x]+1:y[x+1]]))\n",
    "            names.append(data[y[x]][1:])\n",
    "            \n",
    "    return strings"
   ]
  },
  {
   "cell_type": "code",
   "execution_count": 3,
   "metadata": {
    "collapsed": true
   },
   "outputs": [],
   "source": [
    "codon_table = {\n",
    "    'UUU': 'F',     'CUU': 'L',     'AUU': 'I',     'GUU': 'V',\n",
    "    'UUC': 'F',     'CUC': 'L',     'AUC': 'I',     'GUC': 'V',\n",
    "    'UUA': 'L',     'CUA': 'L',     'AUA': 'I',     'GUA': 'V',\n",
    "    'UUG': 'L',     'CUG': 'L',     'AUG': 'M',     'GUG': 'V',\n",
    "    'UCU': 'S',     'CCU': 'P',     'ACU': 'T',     'GCU': 'A',\n",
    "    'UCC': 'S',     'CCC': 'P',     'ACC': 'T',     'GCC': 'A',\n",
    "    'UCA': 'S',     'CCA': 'P',     'ACA': 'T',     'GCA': 'A',\n",
    "    'UCG': 'S',     'CCG': 'P',     'ACG': 'T',     'GCG': 'A',\n",
    "    'UAU': 'Y',     'CAU': 'H',     'AAU': 'N',     'GAU': 'D',\n",
    "    'UAC': 'Y',     'CAC': 'H',     'AAC': 'N',     'GAC': 'D',\n",
    "    'UAA': 'Stop',  'CAA': 'Q',     'AAA': 'K',     'GAA': 'E',\n",
    "    'UAG': 'Stop',  'CAG': 'Q',     'AAG': 'K',     'GAG': 'E',\n",
    "    'UGU': 'C',     'CGU': 'R',     'AGU': 'S',     'GGU': 'G',\n",
    "    'UGC': 'C',     'CGC': 'R',     'AGC': 'S',     'GGC': 'G',\n",
    "    'UGA': 'Stop',  'CGA': 'R',     'AGA': 'R',     'GGA': 'G',\n",
    "    'UGG': 'W',     'CGG': 'R',     'AGG': 'R',     'GGG': 'G'\n",
    "}    "
   ]
  },
  {
   "cell_type": "code",
   "execution_count": 14,
   "metadata": {
    "collapsed": false
   },
   "outputs": [],
   "source": [
    "def to_rna(s):\n",
    "    r = []\n",
    "    for i in s: r.append(\"U\") if i == \"T\" else r.append(i)\n",
    "    return \"\".join(r)\n",
    "\n",
    "def to_protein(r):\n",
    "    protein = \"\"\n",
    "    for i in range(0, len(r) - (len(r) % 3), 3):\n",
    "        symbol = codon_table[r[i:i+3]]\n",
    "        if symbol == 'Stop':\n",
    "            break\n",
    "        protein += symbol\n",
    "    return protein"
   ]
  },
  {
   "cell_type": "code",
   "execution_count": 37,
   "metadata": {
    "collapsed": false
   },
   "outputs": [],
   "source": [
    "strings = read_FASTA(\"rosalind_splc.txt\")\n",
    "#strings = ['ATGGTCTACATAGCTGACAAACAGCACGTAGCAATCGGTCGAATCTCGAGAGGCATATGGTCACATGATCGGTCGAGCGTGTTTCAAAGTTTGCGCCTAG','ATCGGTCGAA','ATCGGTCGAGCGTGT']\n",
    "rna = []\n",
    "for i in strings: rna.append(to_rna(i))"
   ]
  },
  {
   "cell_type": "code",
   "execution_count": 38,
   "metadata": {
    "collapsed": false
   },
   "outputs": [
    {
     "name": "stdout",
     "output_type": "stream",
     "text": [
      "MVAGRRRWSIRVSLTSYLRRTSLAQTKVPRLTVFTSRVDTHGRISTRTIYRDLFISRRRHSGTLIQSRTHSGRSSWFTGNTYACGQSTEKLRRYVPPKPVRSVGSGYSCLPLLTCELKVLYWPSRSLGQQGRPSLSFYLPLHRQLGAGGRVRWLQNSPGDMAITRCECRKPSYPRTVGLFLIARRADMHGQWVTLL\n"
     ]
    }
   ],
   "source": [
    "final = rna[0]\n",
    "for x in range(len(rna)-1): final = final.replace(rna[x+1],\"\")\n",
    "protein = to_protein(final)\n",
    "print(protein)"
   ]
  },
  {
   "cell_type": "code",
   "execution_count": 31,
   "metadata": {
    "collapsed": false,
    "scrolled": true
   },
   "outputs": [],
   "source": []
  }
 ],
 "metadata": {
  "anaconda-cloud": {},
  "kernelspec": {
   "display_name": "Python [conda env:miniconda3]",
   "language": "python",
   "name": "conda-env-miniconda3-py"
  },
  "language_info": {
   "codemirror_mode": {
    "name": "ipython",
    "version": 3
   },
   "file_extension": ".py",
   "mimetype": "text/x-python",
   "name": "python",
   "nbconvert_exporter": "python",
   "pygments_lexer": "ipython3",
   "version": "3.5.2"
  }
 },
 "nbformat": 4,
 "nbformat_minor": 1
}
