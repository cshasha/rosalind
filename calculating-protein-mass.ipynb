{
 "cells": [
  {
   "cell_type": "markdown",
   "metadata": {},
   "source": [
    "# Calculating Protein Mass\n",
    "### Problem\n",
    "In a weighted alphabet, every symbol is assigned a positive real number called a weight. A string formed from a weighted alphabet is called a weighted string, and its weight is equal to the sum of the weights of its symbols.\n",
    "\n",
    "The standard weight assigned to each member of the 20-symbol amino acid alphabet is the monoisotopic mass of the corresponding amino acid.\n",
    "\n",
    "### Given: \n",
    "A protein string P of length at most 1000 aa.\n",
    "\n",
    "### Return: \n",
    "The total weight of P. Consult the monoisotopic mass table."
   ]
  },
  {
   "cell_type": "code",
   "execution_count": 1,
   "metadata": {
    "collapsed": true
   },
   "outputs": [],
   "source": [
    "mass_table = {\n",
    "    'A':   71.03711,\n",
    "    'C':   103.00919,\n",
    "    'D':   115.02694,\n",
    "    'E':   129.04259,\n",
    "    'F':   147.06841,\n",
    "    'G':   57.02146,\n",
    "    'H':   137.05891,\n",
    "    'I':   113.08406,\n",
    "    'K':   128.09496,\n",
    "    'L':   113.08406,\n",
    "    'M':   131.04049,\n",
    "    'N':   114.04293,\n",
    "    'P':   97.05276,\n",
    "    'Q':   128.05858,\n",
    "    'R':   156.10111,\n",
    "    'S':   87.03203,\n",
    "    'T':   101.04768,\n",
    "    'V':   99.06841,\n",
    "    'W':   186.07931,\n",
    "    'Y':   163.06333}"
   ]
  },
  {
   "cell_type": "code",
   "execution_count": 7,
   "metadata": {
    "collapsed": true
   },
   "outputs": [],
   "source": [
    "P = 'WHEHIINFSDFTLGKTFFFDVIPKESWIVLFPGHGRNWDAYNMAYYINSLDNTECDDRLFSMEEGLMIYRIVFQNDFPWFKKKSCWRNLKLTYIGQTGIRGIVCQEKNISLIYNFFTWEMVTAHNSCKNVVNYKILTAIWLQGSWNFDTHTENNWARVFHFKAIYSDIFLDRNWNEPRDEQAFSQTSGDCWAGRISVQRGTYPMPECECISMVIKMVGKTVVMCTAEYCTSCYCDGYDYNQNRSHYWIDCMGTPKKTHLMQQSGTHYHQGRPWHIKKYSYMDLAYFYVSQMHADFEIPEERVMPLQWRNKHWNPWMRCWKVYDAVPMSRFFREHYNSDVMWHNIYEWRCRQSNVVRCKVGSVKATIFMMGGRKCQSHYCHMCMGSTAWCPSASYCEKYSCCEHGRFNDRMMCTLRDFIPAEHTHHYWKCVFWGYTQSYHIMNSQECAANVWETTLWMDTFDFHALQPAEGWHVFAHQQLKKTKMLPSCHYYLFAEDNLEGVNFNGSGNYVYSGSCIHNEFPTKPPYDNTITYWIWMAITWKHLYRWHNQCLGWPWCGEAIYVDYFKISQIGDKRKYPIKPNTISTPTSCSLMCSLPAPRQHELRGSSANPLEVTAIMGTWYVVPNCFDDSSPPPGPQQYIDHATKKGEMTQGFMNKNPHVTSKILDARCGTVCHVHKKAWVTVMCWISTCYFAGNIMAGADHRPAPNCWPIVGSECHPLFLLPQFCIPMYTTSMSGTVNNDGTFTLIECTKCNPDGEVAWSAMNTMTHFKQNSDKPGVNAQGWVLQWSAKCHAYILCDNQRNDNTRPF'\n",
    "mass = 0"
   ]
  },
  {
   "cell_type": "code",
   "execution_count": 8,
   "metadata": {
    "collapsed": true
   },
   "outputs": [],
   "source": [
    "for p in P:\n",
    "    mass += mass_table[p]"
   ]
  },
  {
   "cell_type": "code",
   "execution_count": 9,
   "metadata": {
    "collapsed": false
   },
   "outputs": [
    {
     "name": "stdout",
     "output_type": "stream",
     "text": [
      "94657.145\n"
     ]
    }
   ],
   "source": [
    "print(round(mass,3))"
   ]
  },
  {
   "cell_type": "code",
   "execution_count": null,
   "metadata": {
    "collapsed": true
   },
   "outputs": [],
   "source": []
  }
 ],
 "metadata": {
  "anaconda-cloud": {},
  "kernelspec": {
   "display_name": "Python [conda env:miniconda3]",
   "language": "python",
   "name": "conda-env-miniconda3-py"
  },
  "language_info": {
   "codemirror_mode": {
    "name": "ipython",
    "version": 3
   },
   "file_extension": ".py",
   "mimetype": "text/x-python",
   "name": "python",
   "nbconvert_exporter": "python",
   "pygments_lexer": "ipython3",
   "version": "3.5.2"
  }
 },
 "nbformat": 4,
 "nbformat_minor": 1
}
