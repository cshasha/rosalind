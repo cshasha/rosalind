{
 "cells": [
  {
   "cell_type": "markdown",
   "metadata": {},
   "source": [
    "# Complementing a Strand of DNA\n",
    "### Problem\n",
    "In DNA strings, symbols 'A' and 'T' are complements of each other, as are 'C' and 'G'.\n",
    "\n",
    "The reverse complement of a DNA string s is the string sc formed by reversing the symbols of s, then taking the complement of each symbol (e.g., the reverse complement of \"GTCA\" is \"TGAC\").\n",
    "\n",
    "### Given: \n",
    "A DNA string s of length at most 1000 bp.\n",
    "\n",
    "### Return: \n",
    "The reverse complement sc of s."
   ]
  },
  {
   "cell_type": "code",
   "execution_count": 1,
   "metadata": {
    "collapsed": true
   },
   "outputs": [],
   "source": [
    "import numpy as np\n",
    "import pandas as pd\n",
    "import matplotlib.pyplot as pl\n",
    "\n",
    "pl.style.use('seaborn')\n",
    "pl.rc('font',family='Arial')"
   ]
  },
  {
   "cell_type": "code",
   "execution_count": 23,
   "metadata": {
    "collapsed": true
   },
   "outputs": [],
   "source": [
    "s = \"TCTCGATACTCTGGTGCGGACGACACGGAACCATTTAACGGTGTCAGGCATCTGCCTCCTTCGGCGACCTATATGAACCTCACTCAAGCGGGGTGCTGCGCGTCTGTCCGTGAGTTATGTCAGGAGAGATAGACTTCCCCGGCCGCCGCAATCTATGTCTACATTCCGACGTTGTCTTTGTTGATTATAAGGCAAGTACCGGCCCGACGAAGGACCCTAATAGAAAATATAATTGCTGCCAGAGCATGTCGGACAAACGATAGCCACCGATCTATAGTATGATAATGTGCGTACACCAAGGCGGGAGCGTTCTAGAGGCTGGAGACAATCTGTGCTTAGGCGACAAGTGTTGGAACGTGCATCGACGCGGGAGCTGGGAATTCTAGCCAGGTATCTCTACATCATTCGCAGAGTAGGGCGTGTCTTTCTAGTCTGCGTCTTGGCCTTAGTGCTTGCCGCGCCGGTGGGCTTCGTAGCGACCGTCTATTATGACCCGAAGTCGGGCAGAGGACAGCCTCAGTATTGCAGATAAGGTTCGGTCACCATGCATAAATCTGTGATTACAAACAAGCAGTCGACTCTTGGGTTCATGCATCCAATACGCGGCCTGTGCAGCACGTCAGTCCGTATATTCTAGGATTAATGAAGCCATAGGGCGTCGGGTCCCTCTTTATGTCCTTTAGGTGATAGTTCGATTCTAAATGTTCGTCCCCTCGTCTGAGGGTCCAGTCGACAGTCCCTGGAAAGTATAGTCCTGGTGAGACCGAATTCCGGAATCGGTCAAGGCAACGTCACGTCTCAAACTATATGCTCTGCAACATGCAAGTAGAGTGTATGTTACAACGAGCTACGGGGGGAGATTCCTTTTTCGTTCGCCTACGACACCGATGGTGGGTGGGCCTGCCTAACCCAAACAAGA\"\n",
    "sc = []"
   ]
  },
  {
   "cell_type": "code",
   "execution_count": 24,
   "metadata": {
    "collapsed": true
   },
   "outputs": [],
   "source": [
    "for i in s:\n",
    "    if i == \"A\": sc.append(\"T\")\n",
    "    elif i == \"T\": sc.append(\"A\")\n",
    "    elif i == \"G\": sc.append(\"C\")\n",
    "    elif i == \"C\": sc.append(\"G\")"
   ]
  },
  {
   "cell_type": "code",
   "execution_count": 25,
   "metadata": {
    "collapsed": false
   },
   "outputs": [
    {
     "data": {
      "text/plain": [
       "'TCTTGTTTGGGTTAGGCAGGCCCACCCACCATCGGTGTCGTAGGCGAACGAAAAAGGAATCTCCCCCCGTAGCTCGTTGTAACATACACTCTACTTGCATGTTGCAGAGCATATAGTTTGAGACGTGACGTTGCCTTGACCGATTCCGGAATTCGGTCTCACCAGGACTATACTTTCCAGGGACTGTCGACTGGACCCTCAGACGAGGGGACGAACATTTAGAATCGAACTATCACCTAAAGGACATAAAGAGGGACCCGACGCCCTATGGCTTCATTAATCCTAGAATATACGGACTGACGTGCTGCACAGGCCGCGTATTGGATGCATGAACCCAAGAGTCGACTGCTTGTTTGTAATCACAGATTTATGCATGGTGACCGAACCTTATCTGCAATACTGAGGCTGTCCTCTGCCCGACTTCGGGTCATAATAGACGGTCGCTACGAAGCCCACCGGCGCGGCAAGCACTAAGGCCAAGACGCAGACTAGAAAGACACGCCCTACTCTGCGAATGATGTAGAGATACCTGGCTAGAATTCCCAGCTCCCGCGTCGATGCACGTTCCAACACTTGTCGCCTAAGCACAGATTGTCTCCAGCCTCTAGAACGCTCCCGCCTTGGTGTACGCACATTATCATACTATAGATCGGTGGCTATCGTTTGTCCGACATGCTCTGGCAGCAATTATATTTTCTATTAGGGTCCTTCGTCGGGCCGGTACTTGCCTTATAATCAACAAAGACAACGTCGGAATGTAGACATAGATTGCGGCGGCCGGGGAAGTCTATCTCTCCTGACATAACTCACGGACAGACGCGCAGCACCCCGCTTGAGTGAGGTTCATATAGGTCGCCGAAGGAGGCAGATGCCTGACACCGTTAAATGGTTCCGTGTCGTCCGCACCAGAGTATCGAGA'"
      ]
     },
     "execution_count": 25,
     "metadata": {},
     "output_type": "execute_result"
    }
   ],
   "source": [
    "sc.reverse()\n",
    "''.join(sc)"
   ]
  },
  {
   "cell_type": "code",
   "execution_count": null,
   "metadata": {
    "collapsed": true
   },
   "outputs": [],
   "source": []
  }
 ],
 "metadata": {
  "anaconda-cloud": {},
  "kernelspec": {
   "display_name": "Python [conda env:miniconda3]",
   "language": "python",
   "name": "conda-env-miniconda3-py"
  },
  "language_info": {
   "codemirror_mode": {
    "name": "ipython",
    "version": 3
   },
   "file_extension": ".py",
   "mimetype": "text/x-python",
   "name": "python",
   "nbconvert_exporter": "python",
   "pygments_lexer": "ipython3",
   "version": "3.5.2"
  }
 },
 "nbformat": 4,
 "nbformat_minor": 1
}
