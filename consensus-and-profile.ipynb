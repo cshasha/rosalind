{
 "cells": [
  {
   "cell_type": "markdown",
   "metadata": {},
   "source": [
    "# Consensus and Profile\n",
    "### Problem\n",
    "### Given: \n",
    "A collection of at most 10 DNA strings of equal length (at most 1 kbp) in FASTA format.\n",
    "\n",
    "### Return: \n",
    "A consensus string and profile matrix for the collection. (If several possible consensus strings exist, then you may return any one of them.)"
   ]
  },
  {
   "cell_type": "code",
   "execution_count": 1,
   "metadata": {
    "collapsed": true
   },
   "outputs": [],
   "source": [
    "import numpy as np"
   ]
  },
  {
   "cell_type": "code",
   "execution_count": 62,
   "metadata": {
    "collapsed": false
   },
   "outputs": [],
   "source": [
    "data = np.genfromtxt('rosalind_cons.txt',dtype=str)\n",
    "names = []\n",
    "strings = []\n",
    "y = []\n",
    "for x in range(len(data)):\n",
    "    if data[x][0]  == \">\": y.append(x)\n",
    "        \n",
    "for x in range(len(y)):\n",
    "    if x == len(y)-1: strings.append(\"\".join(data[y[x]+1:]))\n",
    "    else: strings.append(\"\".join(data[y[x]+1:y[x+1]]))\n",
    "        \n",
    "#names.append(data[x][1:])\n",
    "#else: strings.append(data[x])"
   ]
  },
  {
   "cell_type": "code",
   "execution_count": 64,
   "metadata": {
    "collapsed": true
   },
   "outputs": [],
   "source": [
    "A_counts = []\n",
    "C_counts = []\n",
    "G_counts = []\n",
    "T_counts = []\n",
    "\n",
    "for i in range(len(strings[0])):\n",
    "    a, c, g, t = 0, 0, 0, 0\n",
    "    for j in range(len(strings)):\n",
    "        if strings[j][i] == \"A\": a += 1\n",
    "        elif strings[j][i] == \"C\": c += 1\n",
    "        elif strings[j][i] == \"G\": g += 1\n",
    "        elif strings[j][i] == \"T\": t += 1\n",
    "    A_counts.append(a)\n",
    "    C_counts.append(c)\n",
    "    G_counts.append(g)\n",
    "    T_counts.append(t)"
   ]
  },
  {
   "cell_type": "code",
   "execution_count": 65,
   "metadata": {
    "collapsed": false
   },
   "outputs": [],
   "source": [
    "consensus = []\n",
    "\n",
    "for i in range(len(A_counts)):\n",
    "    if A_counts[i] == max(A_counts[i],C_counts[i],G_counts[i],T_counts[i]): \n",
    "        consensus.append(\"A\")\n",
    "    elif C_counts[i] == max(A_counts[i],C_counts[i],G_counts[i],T_counts[i]): \n",
    "        consensus.append(\"C\")\n",
    "    elif G_counts[i] == max(A_counts[i],C_counts[i],G_counts[i],T_counts[i]): \n",
    "        consensus.append(\"G\")\n",
    "    elif T_counts[i] == max(A_counts[i],C_counts[i],G_counts[i],T_counts[i]): \n",
    "        consensus.append(\"T\")"
   ]
  },
  {
   "cell_type": "code",
   "execution_count": 66,
   "metadata": {
    "collapsed": false
   },
   "outputs": [
    {
     "name": "stdout",
     "output_type": "stream",
     "text": [
      "AATACAGAACCCGTAAACCACAGGTCTTAGTAATTCCAAACCTGCGGCATGAGGCACCAGGAACAAGGGACCACTCAGAGCCGGCGGAGACCAATCTTGCAATTCCACGGTCGAAAAGAAGCACCCAGCTGGAAAAACATCCTACCCTGCCCGACAAGGACGCATAAGTCAGCCGCACGGCTAAACAATAAAGATTGAACTAAACCGAGCGACAGCACTTAGCACACTAGGGTAGTAGATTTGAGACGGGAAAATGCAAAGAACATCTGTCAAAGGCTCTATTGTGTCACAAAGAATCACACATAATTTAGCACGACATAGAATCGTGAACGAACACGACACTGTCAAAACAGAAACCCGGGCAGAACCAGTAGGCCCACCTTACAGACACGGAAGGCGGGCACAAACGCAGGGAAGAGTAAACTAGGTTCGAGCCAGGCAACCATGGTAACCCGCACGGATCAGACGAAGAAGAGAAACTCAAACGAGGCTTCAGACTGAAACTACTGAAGTTCAGAACAAAAAAAATTACAGGCCCCCGCTAAGACAACAGACTCCTTGTTCACCAACGGGAAGCTAAGTACAAAGTCGCCCCTCGAACCCTACATAGCCCCGGCATAGGTGATATAAACCCTCAACAAAAAAAATTACATTGAGTCAACGTATATAGCTATATCTAGATGCCCACACGCACCTCGAACCAAATCGGTAATGACCCGGCCAATCCATGACGGTCTTCGGAAGAATTCCATAACGTTCTCTGAGGAAGGACATAACTGTCCCGAACGTTAAGTCTTGGCTAGCACCTAATTCAGGGAAATATGCAGAATACGGGACGAATACTAAAGGCCCCTACGACAACACAAGAACGAACATCGTTGTCAAATACCCCCTCAGACCCCCCTCCGAACATGTCAAACAAATTCCCACCGCGGAAGTATTGCGCATGCCGAACACTCATCGAAAGTAGATC\n",
      "A:  5 3 1 5 3 4 2 5 6 3 2 0 3 3 3 4 4 3 1 4 2 4 3 3 3 2 3 3 3 3 1 4 4 3 1 2 1 5 4 4 1 3 2 3 3 3 2 3 3 2 2 6 1 0 3 3 2 1 4 3 1 4 4 3 5 4 3 2 2 5 0 0 3 2 3 2 5 1 3 0 3 1 1 0 0 1 3 3 1 4 2 1 5 4 2 1 2 2 1 2 3 3 0 3 1 2 6 1 0 2 2 1 1 6 3 3 3 2 4 7 3 1 3 3 2 2 3 1 2 2 1 1 4 3 4 3 5 1 3 2 0 2 0 4 3 2 3 2 1 2 1 2 4 3 3 3 6 2 2 3 1 2 1 4 2 3 3 2 1 1 3 2 3 2 1 2 4 1 2 2 3 1 4 4 4 2 6 7 2 4 5 3 2 5 2 2 1 3 4 3 0 4 3 3 0 2 3 4 2 2 1 4 2 3 1 2 4 1 2 1 5 1 2 4 0 3 1 1 4 3 1 0 2 5 3 0 3 2 3 1 3 2 3 4 2 5 2 0 2 1 4 4 4 4 1 2 3 3 3 5 1 4 3 2 5 1 2 2 1 3 2 4 4 6 3 3 3 2 1 3 5 1 1 2 1 2 1 1 4 2 4 3 4 2 4 5 1 1 4 1 7 2 3 2 4 3 3 2 2 3 2 3 5 1 0 3 2 3 2 4 2 3 4 1 2 1 0 3 3 4 4 3 6 4 3 3 2 2 4 3 5 3 1 3 3 2 5 7 3 4 2 4 1 6 5 3 2 2 3 1 1 2 2 4 1 3 5 2 1 5 3 1 4 2 3 1 1 2 6 0 2 2 2 4 1 4 0 5 3 3 3 2 2 5 3 1 1 2 2 0 2 1 3 2 4 4 3 2 2 2 4 1 1 1 3 5 2 4 2 2 5 4 4 1 0 4 3 3 1 4 0 1 4 3 2 3 5 0 2 2 4 6 2 3 4 3 3 2 3 4 5 3 3 0 1 2 4 2 2 2 4 1 1 6 3 3 0 3 4 4 3 4 4 1 5 2 3 4 4 1 2 1 3 3 4 2 2 4 2 0 3 2 0 1 4 2 6 2 3 2 6 4 4 1 2 5 2 2 2 3 4 1 3 2 1 3 1 3 5 2 4 4 6 3 4 4 5 3 1 2 6 3 4 2 2 1 2 1 2 1 2 0 2 3 4 3 6 1 5 3 1 5 2 3 1 0 3 2 2 3 2 2 2 2 3 0 1 6 3 1 2 3 0 5 4 2 1 1 3 4 2 2 3 1 4 3 4 1 2 4 2 2 2 2 2 2 1 0 3 5 3 2 1 1 4 1 5 1 4 3 2 1 2 2 2 3 3 3 1 4 2 2 3 1 3 3 4 3 5 5 3 2 1 1 1 1 3 4 1 4 4 6 4 3 5 4 4 2 1 3 3 4 1 1 2 4 2 2 2 5 5 2 0 1 4 0 6 3 4 2 2 3 4 1 4 2 2 2 5 0 5 1 2 1 0 1 6 3 6 3 1 2 3 2 2 1 2 2 4 6 2 2 3 5 4 2 2 3 2 3 4 3 1 1 3 1 2 2 1 3 2 2 4 4 1 0 2 4 0 2 5 0 2 4 3 1 2 3 1 3 2 3 4 2 4 4 1 1 3 2 4 2 5 5 2 2 3 1 1 1 3 0 3 3 2 2 4 5 1 0 4 3 3 1 4 3 3 0 3 1 2 1 3 0 3 3 2 3 2 2 4 4 1 1 2 2 2 0 1 2 2 5 1 1 3 1 2 2 3 3 3 1 0 3 2 3 1 4 4 4 3 5 2 2 3 5 3 5 5 1 6 1 2 0 2 3 2 0 4 3 1 4 2 2 4 4 3 2 4 3 1 1 1 1 3 3 2 3 2 4 3 2 4 1 4 3 2 5 3 2 1 4 5 3 3 2 3 1 2 3 2 2 3 4 3 4 1 5 2 1 1 3 2 0 1 3 2 4 1 2 1 2 3 1 2 1 1 3 6 4 1 4 1 2 2 2 3 4 4 0 4 6 4 1 2 3 2 2 3 1 2 0 2 0 3 3 4 0 1 3 1 2 3 1 1 2 4 3 0 2 3 1 4 5 2 4 2 2 2 5 3 3 3 4 5 3 2 1 4 2 3 4 2 \n",
      "C:  1 3 2 2 4 2 1 4 1 5 3 5 2 1 2 3 3 4 4 0 3 2 2 3 2 3 0 1 3 0 3 2 1 2 3 4 4 3 2 2 4 6 3 1 4 2 3 5 1 3 3 2 2 2 4 3 3 4 4 1 0 1 2 4 2 2 2 2 0 1 4 5 3 4 1 4 2 2 1 2 4 4 1 3 7 1 3 2 3 4 3 3 1 2 3 4 1 1 2 4 3 2 4 1 5 5 2 3 3 1 1 4 2 2 2 2 3 1 2 1 1 4 3 4 4 3 3 2 4 0 2 2 1 2 3 2 3 4 3 3 5 5 3 1 4 4 4 0 2 4 4 3 1 2 6 2 1 2 2 1 3 1 4 1 3 3 2 2 2 3 3 3 4 4 1 4 4 5 2 2 4 3 2 2 1 4 3 1 3 2 1 3 3 0 1 1 3 1 3 4 3 1 1 2 5 3 1 3 2 4 3 3 4 3 1 4 2 3 2 3 2 2 4 2 4 1 4 2 0 1 2 3 2 3 1 4 3 1 2 3 2 2 1 0 2 2 3 4 2 2 1 0 4 3 2 2 4 3 2 2 3 3 2 3 4 2 6 1 2 1 4 2 1 2 3 2 4 1 4 3 2 2 2 3 1 2 2 4 1 4 3 2 3 1 2 0 2 5 2 3 0 4 1 3 2 2 1 2 3 3 2 4 2 5 3 2 5 1 3 2 0 2 3 1 3 3 2 1 2 2 5 0 1 2 4 3 3 2 2 5 3 4 3 1 2 3 2 0 3 1 3 2 2 2 0 2 4 4 4 0 2 1 4 3 2 3 0 3 4 1 0 1 2 1 1 7 7 3 3 5 4 1 1 1 3 2 1 1 5 3 4 2 2 0 2 2 2 5 2 3 3 5 2 4 3 2 3 5 1 5 0 3 2 3 2 1 2 1 2 3 3 2 3 4 2 2 0 1 3 0 5 1 4 1 3 4 2 2 1 3 3 2 4 6 2 2 2 3 3 4 0 5 4 5 1 5 3 5 2 1 1 2 4 1 2 2 5 1 1 2 1 1 4 2 4 2 2 1 2 4 2 4 1 2 2 4 0 3 2 1 4 2 3 6 3 2 1 3 1 2 1 2 3 5 3 1 5 1 2 3 2 2 0 2 6 3 2 2 1 3 2 4 1 3 1 1 2 1 1 0 2 4 3 1 1 3 3 6 4 4 2 6 3 2 2 1 1 3 4 3 5 3 0 3 3 2 4 3 2 2 2 2 2 4 3 4 7 1 3 5 2 1 2 2 3 2 4 2 3 1 2 1 3 3 1 2 1 3 2 5 1 3 3 4 3 2 4 2 1 2 4 3 4 3 3 5 2 0 3 2 5 4 4 6 2 2 4 3 0 2 2 1 1 3 3 1 2 2 1 1 2 3 4 3 3 4 1 1 5 1 2 0 4 3 1 1 3 0 1 2 4 2 3 2 1 1 2 3 4 0 2 5 2 1 0 3 2 1 2 2 3 2 2 3 2 0 3 2 3 3 2 2 2 4 4 4 1 4 2 4 2 4 1 4 5 3 5 2 2 2 3 3 2 2 1 3 4 1 2 0 2 3 3 3 3 4 5 4 1 1 4 3 2 3 2 4 3 3 2 2 1 4 2 0 2 3 1 2 5 1 2 2 3 2 1 3 2 1 4 5 1 2 0 2 5 0 1 3 5 3 5 3 3 2 1 2 1 0 3 3 2 4 3 1 1 3 5 2 2 2 4 4 4 3 2 3 4 1 3 2 4 0 1 2 4 1 2 3 1 4 2 1 2 5 1 5 4 2 3 1 1 2 4 2 2 0 2 1 1 1 2 1 2 2 4 2 2 0 1 2 2 4 2 3 0 2 5 1 3 1 0 3 4 2 0 2 3 2 0 4 5 4 4 2 2 4 1 3 6 3 3 4 2 4 0 1 1 2 2 5 1 2 2 4 3 0 4 3 3 1 1 1 4 1 3 2 3 2 4 4 4 5 3 3 6 1 2 1 3 3 5 3 4 3 0 4 4 1 0 2 7 4 3 2 1 3 2 1 0 4 1 1 4 4 2 4 3 4 2 5 4 3 5 2 0 3 3 2 2 3 2 1 1 4 3 5 2 2 2 3 4 2 0 3 5 2 4 2 3 3 1 4 2 1 1 3 3 2 3 2 1 0 3 \n",
      "G:  3 3 3 1 1 4 4 0 1 0 2 3 4 2 3 1 1 2 2 3 2 3 4 4 1 3 3 2 3 5 1 3 3 1 2 3 2 1 1 3 2 1 1 4 1 4 4 1 3 1 4 1 4 4 1 1 2 3 2 4 5 2 2 3 2 2 5 3 4 4 4 1 2 3 1 1 2 4 3 4 2 3 4 4 2 6 4 2 4 2 2 3 1 1 1 4 2 2 4 2 3 2 1 1 2 2 1 3 4 4 3 4 4 2 3 2 2 4 1 1 4 3 2 1 3 2 2 6 1 2 4 5 1 2 2 3 1 1 1 1 3 0 3 1 1 3 2 2 5 2 1 2 5 3 0 2 1 5 4 3 3 5 4 2 1 2 2 3 1 3 2 4 1 3 5 0 1 1 4 3 2 2 4 2 3 2 0 0 1 2 3 1 4 2 2 1 5 3 0 1 3 2 3 3 1 2 4 2 3 4 5 0 1 1 4 2 2 3 2 1 2 4 2 2 3 3 3 3 4 4 6 6 1 1 5 0 1 5 3 2 1 2 5 3 5 2 3 5 5 5 4 2 1 2 3 3 2 2 3 1 4 1 2 3 1 3 2 3 4 1 4 2 2 2 4 4 1 2 2 0 2 3 2 4 3 3 3 1 3 4 2 2 2 5 3 2 2 2 3 3 1 2 3 1 2 2 0 2 1 3 4 2 2 2 4 3 1 3 0 3 5 2 2 3 2 5 3 4 2 1 1 4 2 1 2 1 2 3 4 1 1 1 2 5 1 3 2 1 3 4 2 2 5 2 3 2 1 2 2 6 5 4 1 1 4 1 3 3 3 1 5 3 1 4 4 1 2 3 0 1 3 1 3 1 3 1 5 4 2 2 3 5 4 2 3 4 5 1 4 4 4 2 3 3 2 2 3 3 5 2 3 5 5 4 3 3 4 3 3 1 2 2 1 4 3 1 4 4 2 1 2 5 1 4 3 1 2 5 5 2 1 2 2 1 3 1 4 4 0 1 2 0 2 2 6 1 2 2 3 4 2 2 3 2 4 3 2 4 2 0 5 1 2 5 1 4 3 3 3 4 1 3 3 3 3 3 6 1 3 5 0 2 2 2 2 3 3 3 2 3 2 1 1 2 0 3 1 3 3 3 2 4 3 1 1 2 4 3 3 3 2 1 1 3 3 3 0 3 3 3 1 0 2 5 5 3 2 1 4 2 4 3 1 2 1 4 1 3 0 3 3 2 4 3 3 2 1 3 1 0 4 2 1 3 2 3 2 1 3 2 5 4 4 1 3 6 2 3 1 1 5 3 1 3 4 3 2 5 2 1 4 3 3 2 2 2 1 4 3 3 0 2 3 1 1 1 0 3 1 4 1 2 1 2 3 4 2 1 4 2 5 4 2 4 1 0 2 1 2 2 2 2 3 3 2 2 3 3 1 3 3 2 0 1 3 2 1 3 2 2 2 3 1 2 5 4 4 1 2 5 1 2 4 1 2 2 1 2 4 3 3 1 4 1 3 2 2 2 1 4 1 3 3 3 4 4 2 2 0 1 4 1 3 1 2 1 1 3 2 2 2 2 2 3 1 0 2 4 4 3 2 1 2 4 2 4 2 0 5 4 2 3 2 1 1 4 3 1 2 3 1 3 3 5 1 3 2 1 3 5 5 2 1 4 2 1 2 3 1 1 2 2 3 0 3 4 1 1 2 2 1 3 4 3 4 3 4 4 4 4 3 2 1 3 1 3 2 2 4 3 1 3 0 4 3 2 2 5 1 1 2 3 5 3 1 3 1 4 5 1 1 1 4 3 3 1 1 1 1 3 2 2 2 2 4 5 5 2 3 1 1 2 2 3 1 2 4 3 0 1 1 2 4 4 6 2 1 6 2 3 4 1 3 2 2 2 2 3 5 2 1 1 4 2 3 3 5 2 2 1 2 2 2 2 3 3 5 2 2 1 4 2 2 2 2 3 0 4 0 1 4 3 1 4 3 1 1 2 1 1 3 0 2 3 2 3 3 1 3 3 2 3 0 3 1 1 1 4 2 3 0 1 2 4 1 3 2 2 4 4 2 0 0 0 1 1 2 3 2 3 2 5 3 4 5 3 1 6 1 2 2 1 5 2 5 2 1 1 7 3 3 5 2 0 1 4 2 1 3 0 2 3 4 2 3 3 5 3 2 4 3 1 3 \n",
      "T:  1 1 4 2 2 0 3 1 2 2 3 2 1 4 2 2 2 1 3 3 3 1 1 0 4 2 4 4 1 2 5 1 2 4 4 1 3 1 3 1 3 0 4 2 2 1 1 1 3 4 1 1 3 4 2 3 3 2 0 2 4 3 2 0 1 2 0 3 4 0 2 4 2 1 5 3 1 3 3 4 1 2 4 3 1 2 0 3 2 0 3 3 3 3 4 1 5 5 3 2 1 3 5 5 2 1 1 3 3 3 4 1 3 0 2 3 2 3 3 1 2 2 2 2 1 3 2 1 3 6 3 2 4 3 1 2 1 4 3 4 2 3 4 4 2 1 1 6 2 2 4 3 0 2 1 3 2 1 2 3 3 2 1 3 4 2 3 3 6 3 2 1 2 1 3 4 1 3 2 3 1 4 0 2 2 2 1 2 4 2 1 3 1 3 5 6 1 3 3 2 4 3 3 2 4 3 2 1 3 0 1 3 3 3 4 2 2 3 4 5 1 3 2 2 3 3 2 4 2 2 1 1 5 1 1 6 3 2 2 4 4 4 1 3 1 1 2 1 1 2 1 4 1 1 4 3 1 2 2 2 2 2 3 2 0 4 0 4 3 5 0 2 3 0 0 1 2 5 3 4 1 4 5 1 5 3 4 4 2 0 1 3 1 2 1 3 5 2 1 3 2 2 3 4 2 3 6 4 4 1 2 1 1 2 3 2 2 3 5 1 3 3 1 5 3 1 5 2 3 3 0 3 1 3 1 3 3 3 0 1 1 2 4 1 4 2 1 2 1 1 3 2 2 0 2 3 3 2 1 3 2 3 3 2 3 3 2 2 2 3 2 5 3 3 2 1 0 2 1 4 1 6 4 4 3 3 4 0 0 2 0 1 2 3 2 3 2 2 2 3 1 2 2 1 1 2 1 0 2 1 3 1 2 2 2 1 2 2 3 4 0 2 2 1 5 3 3 2 4 5 3 3 1 2 2 2 1 3 2 3 2 0 2 0 1 4 1 1 4 1 3 2 1 3 2 2 1 1 3 3 3 5 2 1 1 2 3 2 3 4 1 4 0 2 0 2 2 2 1 1 5 2 3 2 1 1 2 2 3 4 3 4 5 1 1 3 0 2 4 3 1 3 2 2 5 1 2 4 3 1 2 3 4 5 2 2 3 2 1 2 2 1 2 1 2 2 3 3 5 5 1 3 1 2 2 3 3 2 0 3 2 1 4 3 3 2 2 3 1 1 1 0 4 1 3 6 2 2 5 5 2 4 5 1 2 3 0 2 1 2 1 2 4 2 0 0 3 4 3 4 1 4 3 3 1 2 3 1 4 0 3 2 2 2 3 4 4 4 3 0 3 3 2 5 2 3 3 6 2 1 2 3 3 0 3 1 1 3 5 2 1 3 4 2 3 6 2 4 2 2 3 3 2 3 4 3 3 2 3 2 1 2 2 3 1 3 2 5 6 3 1 1 5 5 2 1 2 4 2 0 2 1 4 7 4 5 1 4 0 3 2 4 0 5 1 6 3 4 1 3 2 4 3 2 2 1 1 1 2 2 3 3 3 3 1 5 2 3 2 0 3 3 3 0 4 5 2 2 2 4 2 3 4 2 2 1 1 4 3 2 2 2 2 2 6 2 2 2 6 3 3 3 3 1 4 3 5 4 1 1 1 3 2 2 3 2 5 5 2 2 3 4 2 3 0 4 5 5 2 4 1 4 0 2 3 3 1 1 2 3 1 1 3 5 4 1 0 6 1 4 3 2 3 3 2 2 2 1 4 5 0 3 3 4 3 4 5 3 3 3 5 3 3 1 3 3 3 5 3 3 4 5 4 3 2 2 2 3 2 4 4 2 4 3 2 1 1 2 4 6 1 3 2 3 2 3 2 3 1 3 5 2 1 4 4 2 2 3 1 1 3 4 1 5 2 0 2 2 0 2 2 2 2 3 3 3 2 1 3 2 4 2 1 1 2 5 3 2 5 5 3 4 2 1 1 3 5 1 3 4 2 2 3 4 1 3 3 4 3 2 2 2 3 3 7 4 4 2 2 1 2 1 4 2 6 2 3 3 2 2 3 3 2 5 5 2 3 1 3 1 2 2 0 4 2 1 2 2 6 2 5 6 1 3 1 1 3 4 1 2 0 2 4 2 2 0 2 5 2 2 4 0 1 3 1 1 0 4 1 2 3 5 2 "
     ]
    }
   ],
   "source": [
    "for c in consensus: print(c, end = \"\")\n",
    "print(\"\")   \n",
    "print(\"A: \", end=\" \")\n",
    "for x in A_counts: print(x, end = \" \")\n",
    "print(\"\")\n",
    "print(\"C: \", end=\" \")\n",
    "for x in C_counts: print(x, end = \" \")\n",
    "print(\"\")\n",
    "print(\"G: \", end=\" \")\n",
    "for x in G_counts: print(x, end = \" \")\n",
    "print(\"\")\n",
    "print(\"T: \", end=\" \")\n",
    "for x in T_counts: print(x, end = \" \")"
   ]
  },
  {
   "cell_type": "code",
   "execution_count": null,
   "metadata": {
    "collapsed": true
   },
   "outputs": [],
   "source": []
  }
 ],
 "metadata": {
  "anaconda-cloud": {},
  "kernelspec": {
   "display_name": "Python [conda env:miniconda3]",
   "language": "python",
   "name": "conda-env-miniconda3-py"
  },
  "language_info": {
   "codemirror_mode": {
    "name": "ipython",
    "version": 3
   },
   "file_extension": ".py",
   "mimetype": "text/x-python",
   "name": "python",
   "nbconvert_exporter": "python",
   "pygments_lexer": "ipython3",
   "version": "3.5.2"
  }
 },
 "nbformat": 4,
 "nbformat_minor": 1
}
