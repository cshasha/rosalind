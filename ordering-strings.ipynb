{
 "cells": [
  {
   "cell_type": "markdown",
   "metadata": {},
   "source": [
    "# Ordering Strings of Varying Length Lexicographically\n",
    "### Problem\n",
    "Say that we have strings $s=s_1s_2...s_m$ and $t=t_1t_2...t_n$ with $m<n$. Consider the substring $t'=t[1:m]$. We have two cases:\n",
    "\n",
    "1. If $s=t'$, then we set $s<_{Lex}t$ because $s$ is shorter than $t$ (e.g., APPLE$<$APPLET).\n",
    "2. Otherwise, $s≠t'$. We define $s<_{Lex}t$ if $s<_{Lex}t'$ and define $s>_{Lex}t$ if $s>_{Lex}t'$ (e.g., APPLET$<_{Lex}$ARTS because APPL$<_{Lex}$ARTS).\n",
    "\n",
    "### Given: \n",
    "A permutation of at most 12 symbols defining an ordered alphabet 𝒜 and a positive integer n (n≤4).\n",
    "\n",
    "### Return: \n",
    "All strings of length at most n formed from 𝒜, ordered lexicographically. (Note: As in “Enumerating k-mers Lexicographically”, alphabet order is based on the order in which the symbols are given.)"
   ]
  },
  {
   "cell_type": "code",
   "execution_count": 20,
   "metadata": {
    "collapsed": true
   },
   "outputs": [],
   "source": [
    "import itertools"
   ]
  },
  {
   "cell_type": "code",
   "execution_count": 29,
   "metadata": {
    "collapsed": true
   },
   "outputs": [],
   "source": [
    "s = \"DNA\"\n",
    "n = 4\n",
    "num = len(s)**n"
   ]
  },
  {
   "cell_type": "code",
   "execution_count": 30,
   "metadata": {
    "collapsed": true
   },
   "outputs": [],
   "source": [
    "strings = []\n",
    "strings.append(''.join([i*int(num/len(s)) for i in s]))\n",
    "if n > 2: strings.append(''.join([i*int(num/(len(s)**2)) for i in s] * len(s)))\n",
    "if n > 3: strings.append(''.join([i*int(num/(len(s)**3)) for i in s] * len(s)**2))\n",
    "strings.append(''.join(s * int(num/len(s))))"
   ]
  },
  {
   "cell_type": "code",
   "execution_count": 31,
   "metadata": {
    "collapsed": false
   },
   "outputs": [],
   "source": [
    "perms = []\n",
    "for i in range(n):\n",
    "    perms.append([''.join(x) for x in zip(*strings[:(i+1)])])"
   ]
  },
  {
   "cell_type": "code",
   "execution_count": 32,
   "metadata": {
    "collapsed": false
   },
   "outputs": [
    {
     "name": "stdout",
     "output_type": "stream",
     "text": [
      "D\n",
      "DD\n",
      "DDD\n",
      "DDDD\n",
      "DDDN\n",
      "DDDA\n",
      "DDN\n",
      "DDND\n",
      "DDNN\n",
      "DDNA\n",
      "DDA\n",
      "DDAD\n",
      "DDAN\n",
      "DDAA\n",
      "DN\n",
      "DND\n",
      "DNDD\n",
      "DNDN\n",
      "DNDA\n",
      "DNN\n",
      "DNND\n",
      "DNNN\n",
      "DNNA\n",
      "DNA\n",
      "DNAD\n",
      "DNAN\n",
      "DNAA\n",
      "DA\n",
      "DAD\n",
      "DADD\n",
      "DADN\n",
      "DADA\n",
      "DAN\n",
      "DAND\n",
      "DANN\n",
      "DANA\n",
      "DAA\n",
      "DAAD\n",
      "DAAN\n",
      "DAAA\n",
      "N\n",
      "ND\n",
      "NDD\n",
      "NDDD\n",
      "NDDN\n",
      "NDDA\n",
      "NDN\n",
      "NDND\n",
      "NDNN\n",
      "NDNA\n",
      "NDA\n",
      "NDAD\n",
      "NDAN\n",
      "NDAA\n",
      "NN\n",
      "NND\n",
      "NNDD\n",
      "NNDN\n",
      "NNDA\n",
      "NNN\n",
      "NNND\n",
      "NNNN\n",
      "NNNA\n",
      "NNA\n",
      "NNAD\n",
      "NNAN\n",
      "NNAA\n",
      "NA\n",
      "NAD\n",
      "NADD\n",
      "NADN\n",
      "NADA\n",
      "NAN\n",
      "NAND\n",
      "NANN\n",
      "NANA\n",
      "NAA\n",
      "NAAD\n",
      "NAAN\n",
      "NAAA\n",
      "A\n",
      "AD\n",
      "ADD\n",
      "ADDD\n",
      "ADDN\n",
      "ADDA\n",
      "ADN\n",
      "ADND\n",
      "ADNN\n",
      "ADNA\n",
      "ADA\n",
      "ADAD\n",
      "ADAN\n",
      "ADAA\n",
      "AN\n",
      "AND\n",
      "ANDD\n",
      "ANDN\n",
      "ANDA\n",
      "ANN\n",
      "ANND\n",
      "ANNN\n",
      "ANNA\n",
      "ANA\n",
      "ANAD\n",
      "ANAN\n",
      "ANAA\n",
      "AA\n",
      "AAD\n",
      "AADD\n",
      "AADN\n",
      "AADA\n",
      "AAN\n",
      "AAND\n",
      "AANN\n",
      "AANA\n",
      "AAA\n",
      "AAAD\n",
      "AAAN\n",
      "AAAA\n"
     ]
    }
   ],
   "source": [
    "printed = []\n",
    "for i in list(zip(*perms)):\n",
    "    for x in range(n):\n",
    "        if i[x] not in printed:\n",
    "            printed.append(i[x])\n",
    "            print(i[x])\n",
    "        "
   ]
  },
  {
   "cell_type": "code",
   "execution_count": null,
   "metadata": {
    "collapsed": true
   },
   "outputs": [],
   "source": []
  }
 ],
 "metadata": {
  "anaconda-cloud": {},
  "kernelspec": {
   "display_name": "Python [conda env:miniconda3]",
   "language": "python",
   "name": "conda-env-miniconda3-py"
  },
  "language_info": {
   "codemirror_mode": {
    "name": "ipython",
    "version": 3
   },
   "file_extension": ".py",
   "mimetype": "text/x-python",
   "name": "python",
   "nbconvert_exporter": "python",
   "pygments_lexer": "ipython3",
   "version": "3.5.2"
  }
 },
 "nbformat": 4,
 "nbformat_minor": 1
}
