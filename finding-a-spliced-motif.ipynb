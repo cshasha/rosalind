{
 "cells": [
  {
   "cell_type": "markdown",
   "metadata": {},
   "source": [
    "# Finding a Spliced Motif\n",
    "### Problem\n",
    "A subsequence of a string is a collection of symbols contained in order (though not necessarily contiguously) in the string (e.g., ACG is a subsequence of TATGCTAAGATC). The indices of a subsequence are the positions in the string at which the symbols of the subsequence appear; thus, the indices of ACG in TATGCTAAGATC can be represented by (2, 5, 9).\n",
    "\n",
    "As a substring can have multiple locations, a subsequence can have multiple collections of indices, and the same index can be reused in more than one appearance of the subsequence; for example, ACG is a subsequence of AACCGGTT in 8 different ways.\n",
    "\n",
    "### Given: \n",
    "Two DNA strings s and t (each of length at most 1 kbp) in FASTA format.\n",
    "\n",
    "### Return: \n",
    "One collection of indices of s in which the symbols of t appear as a subsequence of s. If multiple solutions exist, you may return any one."
   ]
  },
  {
   "cell_type": "code",
   "execution_count": 1,
   "metadata": {
    "collapsed": true
   },
   "outputs": [],
   "source": [
    "import numpy as np\n",
    "\n",
    "def read_FASTA(file):\n",
    "    data = np.genfromtxt(file,dtype=str)\n",
    "    names = []\n",
    "    strings = []\n",
    "    y = []\n",
    "    for x in range(len(data)):\n",
    "        if data[x][0]  == \">\": y.append(x)\n",
    "\n",
    "    for x in range(len(y)):\n",
    "        if x == len(y)-1: \n",
    "            strings.append(\"\".join(data[y[x]+1:]))\n",
    "            names.append(data[y[x]][1:])\n",
    "        else: \n",
    "            strings.append(\"\".join(data[y[x]+1:y[x+1]]))\n",
    "            names.append(data[y[x]][1:])\n",
    "            \n",
    "    return strings"
   ]
  },
  {
   "cell_type": "code",
   "execution_count": 11,
   "metadata": {
    "collapsed": true
   },
   "outputs": [],
   "source": [
    "strings = read_FASTA(\"rosalind_sseq.txt\")\n",
    "s = strings[0]\n",
    "t = strings[1]\n",
    "\n",
    "#s = 'ACGACGTGACG'\n",
    "#t = 'GTAG'"
   ]
  },
  {
   "cell_type": "code",
   "execution_count": 12,
   "metadata": {
    "collapsed": false
   },
   "outputs": [
    {
     "name": "stdout",
     "output_type": "stream",
     "text": [
      "1 5 8 10 15 17 18 29 30 32 36 40 46 49 52 57 59 63 65 68 71 80 82 84 86 87 88 91 102 107 111 112 117 118 121 125 126 127 130 138 145 149 161 164 165 "
     ]
    }
   ],
   "source": [
    "start = 0\n",
    "for x in range(len(t)):\n",
    "    for y in range(start, len(s)):\n",
    "        if s[y] == t[x]:\n",
    "            start = y+1\n",
    "            print(y+1, end = \" \")\n",
    "            break"
   ]
  },
  {
   "cell_type": "code",
   "execution_count": null,
   "metadata": {
    "collapsed": true
   },
   "outputs": [],
   "source": []
  }
 ],
 "metadata": {
  "anaconda-cloud": {},
  "kernelspec": {
   "display_name": "Python [conda env:miniconda3]",
   "language": "python",
   "name": "conda-env-miniconda3-py"
  },
  "language_info": {
   "codemirror_mode": {
    "name": "ipython",
    "version": 3
   },
   "file_extension": ".py",
   "mimetype": "text/x-python",
   "name": "python",
   "nbconvert_exporter": "python",
   "pygments_lexer": "ipython3",
   "version": "3.5.2"
  }
 },
 "nbformat": 4,
 "nbformat_minor": 1
}
