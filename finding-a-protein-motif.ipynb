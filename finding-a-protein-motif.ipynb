{
 "cells": [
  {
   "cell_type": "markdown",
   "metadata": {},
   "source": [
    "# Finding a Protein Motif\n",
    "### Problem\n",
    "To allow for the presence of its varying forms, a protein motif is represented by a shorthand as follows: [XY] means \"either X or Y\" and {X} means \"any amino acid except X.\" For example, the N-glycosylation motif is written as N{P}[ST]{P}.\n",
    "\n",
    "You can see the complete description and features of a particular protein by its access ID \"uniprot_id\" in the UniProt database, by inserting the ID number into\n",
    "\n",
    "http://www.uniprot.org/uniprot/uniprot_id\n",
    "Alternatively, you can obtain a protein sequence in FASTA format by following\n",
    "\n",
    "http://www.uniprot.org/uniprot/uniprot_id.fasta\n",
    "For example, the data for protein B5ZC00 can be found at http://www.uniprot.org/uniprot/B5ZC00.\n",
    "\n",
    "### Given: \n",
    "At most 15 UniProt Protein Database access IDs.\n",
    "\n",
    "### Return: \n",
    "For each protein possessing the N-glycosylation motif, output its given access ID followed by a list of locations in the protein string where the motif can be found."
   ]
  },
  {
   "cell_type": "code",
   "execution_count": 51,
   "metadata": {
    "collapsed": false
   },
   "outputs": [],
   "source": [
    "import numpy as np\n",
    "import urllib.request\n",
    "import requests"
   ]
  },
  {
   "cell_type": "code",
   "execution_count": 77,
   "metadata": {
    "collapsed": false
   },
   "outputs": [],
   "source": [
    "def read_FASTA(data):\n",
    "    string = \"\"\n",
    "    name = []\n",
    "    for line in [l.strip() for l in data.splitlines()]:\n",
    "        if line.startswith('>'):\n",
    "            name.append(line[1:])\n",
    "        else:\n",
    "            string += line\n",
    "    return string\n",
    "\n",
    "def get_FASTA(uniprot_id):\n",
    "    uri = 'http://www.uniprot.org/uniprot/{}.fasta'.format(uniprot_id)\n",
    "    response = requests.get(uri).text\n",
    "    return read_FASTA(response)"
   ]
  },
  {
   "cell_type": "code",
   "execution_count": 91,
   "metadata": {
    "collapsed": false
   },
   "outputs": [],
   "source": [
    "ids = ['P01045_KNH2_BOVIN', 'P11171_41_HUMAN', 'O13188', 'P02725_GLP_PIG','A3DF24','P22891_PRTZ_HUMAN','A2A2Y4','P02765_A2HS_HUMAN','P07358_CO8B_HUMAN','P02750_A2GL_HUMAN','P07359_GPBA_HUMAN','A5F5B4']\n",
    "strings = []\n",
    "for i in ids: strings.append(get_FASTA(i))"
   ]
  },
  {
   "cell_type": "code",
   "execution_count": 92,
   "metadata": {
    "collapsed": false
   },
   "outputs": [
    {
     "name": "stdout",
     "output_type": "stream",
     "text": [
      "\n",
      "P01045_KNH2_BOVIN\n",
      "47 87 168 169 197 204 280 \n",
      "P11171_41_HUMAN\n",
      "258 281 358 \n",
      "O13188\n",
      "207 \n",
      "P02725_GLP_PIG\n",
      "16 19 39 \n",
      "A3DF24\n",
      "178 \n",
      "P22891_PRTZ_HUMAN\n",
      "99 225 233 306 332 \n",
      "A2A2Y4\n",
      "90 359 407 \n",
      "P02765_A2HS_HUMAN\n",
      "156 176 \n",
      "P07358_CO8B_HUMAN\n",
      "44 101 243 553 \n",
      "P02750_A2GL_HUMAN\n",
      "79 186 269 306 325 \n",
      "P07359_GPBA_HUMAN\n",
      "37 175 362 398 \n",
      "A5F5B4\n",
      "68 "
     ]
    }
   ],
   "source": [
    "for i in range(len(ids)):\n",
    "    print(\"\")\n",
    "    print(ids[i])\n",
    "    for x in range(len(strings[i]) - 3):\n",
    "        if (strings[i][x] == 'N') and (strings[i][x+1] != 'P') and ((strings[i][x+2] == 'S') or (strings[i][x+2] == 'T')) and (strings[i][x+3] != 'P'):\n",
    "            print(x+1, end=\" \")"
   ]
  },
  {
   "cell_type": "code",
   "execution_count": null,
   "metadata": {
    "collapsed": true
   },
   "outputs": [],
   "source": []
  }
 ],
 "metadata": {
  "anaconda-cloud": {},
  "kernelspec": {
   "display_name": "Python [conda env:miniconda3]",
   "language": "python",
   "name": "conda-env-miniconda3-py"
  },
  "language_info": {
   "codemirror_mode": {
    "name": "ipython",
    "version": 3
   },
   "file_extension": ".py",
   "mimetype": "text/x-python",
   "name": "python",
   "nbconvert_exporter": "python",
   "pygments_lexer": "ipython3",
   "version": "3.5.2"
  }
 },
 "nbformat": 4,
 "nbformat_minor": 1
}
