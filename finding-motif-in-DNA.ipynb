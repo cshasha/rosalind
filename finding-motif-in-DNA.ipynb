{
 "cells": [
  {
   "cell_type": "markdown",
   "metadata": {},
   "source": [
    "# Finding a Motif in DNA\n",
    "### Problem\n",
    "Given two strings s and t, t is a substring of s if t is contained as a contiguous collection of symbols in s (as a result, t must be no longer than s).\n",
    "\n",
    "The position of a symbol in a string is the total number of symbols found to its left, including itself (e.g., the positions of all occurrences of 'U' in \"AUGCUUCAGAAAGGUCUUACG\" are 2, 5, 6, 15, 17, and 18). The symbol at position i of s is denoted by s[i].\n",
    "\n",
    "A substring of s can be represented as s[j:k], where j and k represent the starting and ending positions of the substring in s; for example, if s = \"AUGCUUCAGAAAGGUCUUACG\", then s[2:5] = \"UGCU\".\n",
    "\n",
    "The location of a substring s[j:k] is its beginning position j; note that t will have multiple locations in s if it occurs more than once as a substring of s (see the Sample below).\n",
    "\n",
    "### Given: \n",
    "Two DNA strings s and t (each of length at most 1 kbp).\n",
    "\n",
    "### Return: \n",
    "All locations of t as a substring of s.\n",
    "\n"
   ]
  },
  {
   "cell_type": "code",
   "execution_count": 15,
   "metadata": {
    "collapsed": true
   },
   "outputs": [],
   "source": [
    "s = \"AAACTCTAATGCTCTAATAGTACCCTCTAATCTCTAATGCTCTAATGCTCTAATCGCTCTAATATACCTCTAATACTCTAATTCCTCTAATCTCTAATATGTCTCTAATACTCTAATGCTCTAATCCTCTAATTTTTTGTGTTCTCTAATACTCTAATAGCCTCTAATACTCGCTCTAATACCTCGCACTCTAATCTCTAATCTCTAATTCCTCTAATCCTCTAATCTCTAATCTCTAATCTCTAATTCTCTAATTCTCTAATCTTTCTCTAATACTCTAATCTCTAATCCCTCTAATCTCTAATTCTCTAATAGCTCTAATCTCTAATCCTCTAATCTCTAATCGCAGCGTTTCTCTAATTATCTGCTCTAATCTCTAATCCTCGCACGTACTCTAATCGTCTCTAATCTCTAATCCTCTAATGCTACTCTAATCTCTAATTGACTCTAATTCTCTAATAAGCGCTTATATACTCTAATCTCTAATCATCTCTAATCCGAACCTCTAATGATAGACTCTAATCACTCTAATACTCTAATGGGTCTCTAATGCTCTAATCTCTAATCTCTAATCTCTAATCACTCTAATCTCTAATCTCTAATCATCTGCTCTAATCCGACTCTAATCCTCTAATGGAGCTCTAATCTCTAATGTTTCTCTAATGTGCTCTAATCACTCTAATATGCTCTAATAGCGATTTCTCTAATCCGACCTCTAATCACTCTAATGACTCTAATGTAAGCACCCTCTAATCTCTAATGTCCTCTAATGGGTCACCAACTTGCTCTAATTTCTCTAATCTCTAATAGCGAAACTCTAATGCTCTAATTACTCTAATGCTCTAATTTATTGTGGACGCCTCTAATACTCTAATTCTCTAATTAGAGCTCTAAT\"\n",
    "t = \"CTCTAATCT\"\n",
    "loc = []"
   ]
  },
  {
   "cell_type": "code",
   "execution_count": 16,
   "metadata": {
    "collapsed": false
   },
   "outputs": [],
   "source": [
    "for i in range(len(s)):\n",
    "    if s[i:i+len(t)] == t: loc.append(i+1)"
   ]
  },
  {
   "cell_type": "code",
   "execution_count": 17,
   "metadata": {
    "collapsed": false
   },
   "outputs": [
    {
     "name": "stdout",
     "output_type": "stream",
     "text": [
      "25 85 189 196 220 227 234 257 276 292 316 331 368 403 429 474 553 560 567 583 590 640 748 795 "
     ]
    }
   ],
   "source": [
    "for x in loc: print(x, end=\" \")"
   ]
  },
  {
   "cell_type": "code",
   "execution_count": null,
   "metadata": {
    "collapsed": true
   },
   "outputs": [],
   "source": []
  }
 ],
 "metadata": {
  "anaconda-cloud": {},
  "kernelspec": {
   "display_name": "Python [conda env:miniconda3]",
   "language": "python",
   "name": "conda-env-miniconda3-py"
  },
  "language_info": {
   "codemirror_mode": {
    "name": "ipython",
    "version": 3
   },
   "file_extension": ".py",
   "mimetype": "text/x-python",
   "name": "python",
   "nbconvert_exporter": "python",
   "pygments_lexer": "ipython3",
   "version": "3.5.2"
  }
 },
 "nbformat": 4,
 "nbformat_minor": 1
}
